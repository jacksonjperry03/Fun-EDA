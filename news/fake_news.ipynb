{
 "cells": [
  {
   "cell_type": "markdown",
   "id": "4ed75d00-21ca-4b00-97e1-eec1d7514988",
   "metadata": {},
   "source": [
    "The goal of this exploratory data analysis is to answer the following questions given data that includes the variables:\n",
    "\n",
    "‘text’: contents of an article\n",
    "\n",
    "‘label’: whether it is real or fake news\n",
    "\n",
    "‘title’: title of the article"
   ]
  },
  {
   "cell_type": "markdown",
   "id": "c3f5b4d4-42f1-4cc7-9fea-4021fddc9210",
   "metadata": {},
   "source": [
    "### Question 1: Is the text or the title of an article more predictive of whether it is real or fake?"
   ]
  },
  {
   "cell_type": "markdown",
   "id": "fe6e9606-35e9-457d-be87-05429166f636",
   "metadata": {},
   "source": [
    "#### Pseudocode:"
   ]
  },
  {
   "cell_type": "markdown",
   "id": "0296dafc-e8c5-40f3-8828-225a820e5eb1",
   "metadata": {},
   "source": [
    "Import classification necessities"
   ]
  },
  {
   "cell_type": "markdown",
   "id": "0395e514-520b-4763-a5a9-04145b66533d",
   "metadata": {},
   "source": [
    "Initialize a feature variable and set it to 'text'"
   ]
  },
  {
   "cell_type": "markdown",
   "id": "42f335c7-0c29-478c-8ec9-fe2649de5ba0",
   "metadata": {},
   "source": [
    "Initialize a target variable and set it to 'label'"
   ]
  },
  {
   "cell_type": "markdown",
   "id": "6c00646a-5094-407f-b7f9-9ee2e795cdc5",
   "metadata": {},
   "source": [
    "Convert categorical feature data into numerical data (e.g. CountVectorizer) to be used for classification models"
   ]
  },
  {
   "cell_type": "markdown",
   "id": "5f134f3c-ad11-44cc-9893-dd90738dbdaf",
   "metadata": {},
   "source": [
    "Split test and training data (x parameter is feature data, y parameter is target data)"
   ]
  },
  {
   "cell_type": "markdown",
   "id": "7928d776-eda6-4ce9-b42c-23586949f209",
   "metadata": {
    "tags": []
   },
   "source": [
    "Choose a classification model to initialize"
   ]
  },
  {
   "cell_type": "markdown",
   "id": "e2e0037b-a872-4a22-9bbf-78c62437b5a9",
   "metadata": {},
   "source": [
    "Fit the model with X and y training data"
   ]
  },
  {
   "cell_type": "markdown",
   "id": "fadae329-efcb-429b-96c8-69d6882a1de6",
   "metadata": {},
   "source": [
    "Generate a score and interpret results"
   ]
  },
  {
   "cell_type": "markdown",
   "id": "fcf4e669-d1bc-4779-a218-ddd1b886b7db",
   "metadata": {},
   "source": [
    "Set feature variable to 'title' and repeat previous steps using the same classification model"
   ]
  },
  {
   "cell_type": "markdown",
   "id": "b94c188b-35c9-464c-acf9-5000259707c2",
   "metadata": {},
   "source": [
    "Compare the two classification reports to determine what feature is more predictive"
   ]
  },
  {
   "cell_type": "markdown",
   "id": "76e4a716-f094-4d7c-b62e-2f8a5b0a8c4c",
   "metadata": {},
   "source": [
    "#### Implementation:"
   ]
  },
  {
   "cell_type": "code",
   "execution_count": 36,
   "id": "39a920e5-5f94-49f7-a620-e2a523952205",
   "metadata": {
    "tags": []
   },
   "outputs": [],
   "source": [
    "from sklearn.model_selection import train_test_split\n",
    "from sklearn.metrics import confusion_matrix, classification_report\n",
    "from sklearn.feature_extraction.text import CountVectorizer\n",
    "from sklearn.feature_extraction import text\n",
    "from sklearn.naive_bayes import MultinomialNB\n",
    "from sklearn import metrics\n",
    "import pandas as pd\n",
    "import seaborn as sns\n",
    "sns.set_theme(palette='colorblind')"
   ]
  },
  {
   "cell_type": "code",
   "execution_count": 37,
   "id": "86e77332-df6f-4281-a541-52f5bb6f2ec1",
   "metadata": {
    "tags": []
   },
   "outputs": [],
   "source": [
    "news_df = pd.read_csv('fake_or_real_news.csv')"
   ]
  },
  {
   "cell_type": "code",
   "execution_count": 38,
   "id": "4debc235-f951-430a-8341-0f02cfc84d2f",
   "metadata": {
    "tags": []
   },
   "outputs": [],
   "source": [
    "feature_var = 'text'"
   ]
  },
  {
   "cell_type": "code",
   "execution_count": 39,
   "id": "26286246-b4c0-4578-adf8-03d9812dfb8b",
   "metadata": {
    "tags": []
   },
   "outputs": [],
   "source": [
    "target_var = 'label'"
   ]
  },
  {
   "cell_type": "code",
   "execution_count": 40,
   "id": "3e639712-7a9c-45b5-ada8-4b6291be5b8a",
   "metadata": {
    "tags": []
   },
   "outputs": [],
   "source": [
    "counts = text.CountVectorizer()"
   ]
  },
  {
   "cell_type": "code",
   "execution_count": 41,
   "id": "de4c7266-819d-4fa5-961b-084e0f10c891",
   "metadata": {
    "tags": []
   },
   "outputs": [],
   "source": [
    "text_vec = counts.fit_transform(news_df[feature_var])"
   ]
  },
  {
   "cell_type": "code",
   "execution_count": 42,
   "id": "db1ac8ef-94f3-4c5b-a018-9efc2ef8ad2c",
   "metadata": {
    "tags": []
   },
   "outputs": [],
   "source": [
    "text_clf = MultinomialNB()"
   ]
  },
  {
   "cell_type": "code",
   "execution_count": 43,
   "id": "d113016c-2483-4535-9b23-df10e4ce06e0",
   "metadata": {
    "tags": []
   },
   "outputs": [],
   "source": [
    "text_vec_train, text_vec_test, label_y_train, label_y_test = train_test_split(text_vec, news_df[target_var], random_state=3)"
   ]
  },
  {
   "cell_type": "code",
   "execution_count": 44,
   "id": "8c7a83a3-2c04-4910-800d-24e5ed15976d",
   "metadata": {
    "tags": []
   },
   "outputs": [
    {
     "data": {
      "text/html": [
       "<style>#sk-container-id-3 {color: black;}#sk-container-id-3 pre{padding: 0;}#sk-container-id-3 div.sk-toggleable {background-color: white;}#sk-container-id-3 label.sk-toggleable__label {cursor: pointer;display: block;width: 100%;margin-bottom: 0;padding: 0.3em;box-sizing: border-box;text-align: center;}#sk-container-id-3 label.sk-toggleable__label-arrow:before {content: \"▸\";float: left;margin-right: 0.25em;color: #696969;}#sk-container-id-3 label.sk-toggleable__label-arrow:hover:before {color: black;}#sk-container-id-3 div.sk-estimator:hover label.sk-toggleable__label-arrow:before {color: black;}#sk-container-id-3 div.sk-toggleable__content {max-height: 0;max-width: 0;overflow: hidden;text-align: left;background-color: #f0f8ff;}#sk-container-id-3 div.sk-toggleable__content pre {margin: 0.2em;color: black;border-radius: 0.25em;background-color: #f0f8ff;}#sk-container-id-3 input.sk-toggleable__control:checked~div.sk-toggleable__content {max-height: 200px;max-width: 100%;overflow: auto;}#sk-container-id-3 input.sk-toggleable__control:checked~label.sk-toggleable__label-arrow:before {content: \"▾\";}#sk-container-id-3 div.sk-estimator input.sk-toggleable__control:checked~label.sk-toggleable__label {background-color: #d4ebff;}#sk-container-id-3 div.sk-label input.sk-toggleable__control:checked~label.sk-toggleable__label {background-color: #d4ebff;}#sk-container-id-3 input.sk-hidden--visually {border: 0;clip: rect(1px 1px 1px 1px);clip: rect(1px, 1px, 1px, 1px);height: 1px;margin: -1px;overflow: hidden;padding: 0;position: absolute;width: 1px;}#sk-container-id-3 div.sk-estimator {font-family: monospace;background-color: #f0f8ff;border: 1px dotted black;border-radius: 0.25em;box-sizing: border-box;margin-bottom: 0.5em;}#sk-container-id-3 div.sk-estimator:hover {background-color: #d4ebff;}#sk-container-id-3 div.sk-parallel-item::after {content: \"\";width: 100%;border-bottom: 1px solid gray;flex-grow: 1;}#sk-container-id-3 div.sk-label:hover label.sk-toggleable__label {background-color: #d4ebff;}#sk-container-id-3 div.sk-serial::before {content: \"\";position: absolute;border-left: 1px solid gray;box-sizing: border-box;top: 0;bottom: 0;left: 50%;z-index: 0;}#sk-container-id-3 div.sk-serial {display: flex;flex-direction: column;align-items: center;background-color: white;padding-right: 0.2em;padding-left: 0.2em;position: relative;}#sk-container-id-3 div.sk-item {position: relative;z-index: 1;}#sk-container-id-3 div.sk-parallel {display: flex;align-items: stretch;justify-content: center;background-color: white;position: relative;}#sk-container-id-3 div.sk-item::before, #sk-container-id-3 div.sk-parallel-item::before {content: \"\";position: absolute;border-left: 1px solid gray;box-sizing: border-box;top: 0;bottom: 0;left: 50%;z-index: -1;}#sk-container-id-3 div.sk-parallel-item {display: flex;flex-direction: column;z-index: 1;position: relative;background-color: white;}#sk-container-id-3 div.sk-parallel-item:first-child::after {align-self: flex-end;width: 50%;}#sk-container-id-3 div.sk-parallel-item:last-child::after {align-self: flex-start;width: 50%;}#sk-container-id-3 div.sk-parallel-item:only-child::after {width: 0;}#sk-container-id-3 div.sk-dashed-wrapped {border: 1px dashed gray;margin: 0 0.4em 0.5em 0.4em;box-sizing: border-box;padding-bottom: 0.4em;background-color: white;}#sk-container-id-3 div.sk-label label {font-family: monospace;font-weight: bold;display: inline-block;line-height: 1.2em;}#sk-container-id-3 div.sk-label-container {text-align: center;}#sk-container-id-3 div.sk-container {/* jupyter's `normalize.less` sets `[hidden] { display: none; }` but bootstrap.min.css set `[hidden] { display: none !important; }` so we also need the `!important` here to be able to override the default hidden behavior on the sphinx rendered scikit-learn.org. See: https://github.com/scikit-learn/scikit-learn/issues/21755 */display: inline-block !important;position: relative;}#sk-container-id-3 div.sk-text-repr-fallback {display: none;}</style><div id=\"sk-container-id-3\" class=\"sk-top-container\"><div class=\"sk-text-repr-fallback\"><pre>MultinomialNB()</pre><b>In a Jupyter environment, please rerun this cell to show the HTML representation or trust the notebook. <br />On GitHub, the HTML representation is unable to render, please try loading this page with nbviewer.org.</b></div><div class=\"sk-container\" hidden><div class=\"sk-item\"><div class=\"sk-estimator sk-toggleable\"><input class=\"sk-toggleable__control sk-hidden--visually\" id=\"sk-estimator-id-3\" type=\"checkbox\" checked><label for=\"sk-estimator-id-3\" class=\"sk-toggleable__label sk-toggleable__label-arrow\">MultinomialNB</label><div class=\"sk-toggleable__content\"><pre>MultinomialNB()</pre></div></div></div></div></div>"
      ],
      "text/plain": [
       "MultinomialNB()"
      ]
     },
     "execution_count": 44,
     "metadata": {},
     "output_type": "execute_result"
    }
   ],
   "source": [
    "text_clf.fit(text_vec_train,label_y_train)"
   ]
  },
  {
   "cell_type": "code",
   "execution_count": 45,
   "id": "0b5e45b4-9d96-42ba-ae24-f38614ca526e",
   "metadata": {
    "tags": []
   },
   "outputs": [
    {
     "data": {
      "text/plain": [
       "0.8813131313131313"
      ]
     },
     "execution_count": 45,
     "metadata": {},
     "output_type": "execute_result"
    }
   ],
   "source": [
    "text_clf.score(text_vec_test,label_y_test)"
   ]
  },
  {
   "cell_type": "code",
   "execution_count": 46,
   "id": "592416ab-1d8d-4c03-a0ed-c7d6c01dde98",
   "metadata": {
    "tags": []
   },
   "outputs": [],
   "source": [
    "feature_var = 'title'"
   ]
  },
  {
   "cell_type": "code",
   "execution_count": 47,
   "id": "ea55b6fe-f9e5-4840-9f56-62bf9e52cc99",
   "metadata": {
    "tags": []
   },
   "outputs": [],
   "source": [
    "counts = text.CountVectorizer()"
   ]
  },
  {
   "cell_type": "code",
   "execution_count": 48,
   "id": "5da18ba2-59f7-4bda-8eb9-065ab330122a",
   "metadata": {
    "tags": []
   },
   "outputs": [],
   "source": [
    "title_vec = counts.fit_transform(news_df[feature_var])"
   ]
  },
  {
   "cell_type": "code",
   "execution_count": 49,
   "id": "9fc2b3c6-ef6c-4b3b-a9fc-76d91ba75b73",
   "metadata": {
    "tags": []
   },
   "outputs": [],
   "source": [
    "title_clf = MultinomialNB()"
   ]
  },
  {
   "cell_type": "code",
   "execution_count": 50,
   "id": "8660066c-a81d-4c36-9df1-c6bb660336db",
   "metadata": {
    "tags": []
   },
   "outputs": [],
   "source": [
    "title_vec_train, title_vec_test, label_y_train, label_y_test = train_test_split(title_vec, news_df[target_var], random_state=3)"
   ]
  },
  {
   "cell_type": "code",
   "execution_count": 51,
   "id": "0028d7a3-6213-48f0-9c53-727313ef0f12",
   "metadata": {
    "tags": []
   },
   "outputs": [
    {
     "data": {
      "text/html": [
       "<style>#sk-container-id-4 {color: black;}#sk-container-id-4 pre{padding: 0;}#sk-container-id-4 div.sk-toggleable {background-color: white;}#sk-container-id-4 label.sk-toggleable__label {cursor: pointer;display: block;width: 100%;margin-bottom: 0;padding: 0.3em;box-sizing: border-box;text-align: center;}#sk-container-id-4 label.sk-toggleable__label-arrow:before {content: \"▸\";float: left;margin-right: 0.25em;color: #696969;}#sk-container-id-4 label.sk-toggleable__label-arrow:hover:before {color: black;}#sk-container-id-4 div.sk-estimator:hover label.sk-toggleable__label-arrow:before {color: black;}#sk-container-id-4 div.sk-toggleable__content {max-height: 0;max-width: 0;overflow: hidden;text-align: left;background-color: #f0f8ff;}#sk-container-id-4 div.sk-toggleable__content pre {margin: 0.2em;color: black;border-radius: 0.25em;background-color: #f0f8ff;}#sk-container-id-4 input.sk-toggleable__control:checked~div.sk-toggleable__content {max-height: 200px;max-width: 100%;overflow: auto;}#sk-container-id-4 input.sk-toggleable__control:checked~label.sk-toggleable__label-arrow:before {content: \"▾\";}#sk-container-id-4 div.sk-estimator input.sk-toggleable__control:checked~label.sk-toggleable__label {background-color: #d4ebff;}#sk-container-id-4 div.sk-label input.sk-toggleable__control:checked~label.sk-toggleable__label {background-color: #d4ebff;}#sk-container-id-4 input.sk-hidden--visually {border: 0;clip: rect(1px 1px 1px 1px);clip: rect(1px, 1px, 1px, 1px);height: 1px;margin: -1px;overflow: hidden;padding: 0;position: absolute;width: 1px;}#sk-container-id-4 div.sk-estimator {font-family: monospace;background-color: #f0f8ff;border: 1px dotted black;border-radius: 0.25em;box-sizing: border-box;margin-bottom: 0.5em;}#sk-container-id-4 div.sk-estimator:hover {background-color: #d4ebff;}#sk-container-id-4 div.sk-parallel-item::after {content: \"\";width: 100%;border-bottom: 1px solid gray;flex-grow: 1;}#sk-container-id-4 div.sk-label:hover label.sk-toggleable__label {background-color: #d4ebff;}#sk-container-id-4 div.sk-serial::before {content: \"\";position: absolute;border-left: 1px solid gray;box-sizing: border-box;top: 0;bottom: 0;left: 50%;z-index: 0;}#sk-container-id-4 div.sk-serial {display: flex;flex-direction: column;align-items: center;background-color: white;padding-right: 0.2em;padding-left: 0.2em;position: relative;}#sk-container-id-4 div.sk-item {position: relative;z-index: 1;}#sk-container-id-4 div.sk-parallel {display: flex;align-items: stretch;justify-content: center;background-color: white;position: relative;}#sk-container-id-4 div.sk-item::before, #sk-container-id-4 div.sk-parallel-item::before {content: \"\";position: absolute;border-left: 1px solid gray;box-sizing: border-box;top: 0;bottom: 0;left: 50%;z-index: -1;}#sk-container-id-4 div.sk-parallel-item {display: flex;flex-direction: column;z-index: 1;position: relative;background-color: white;}#sk-container-id-4 div.sk-parallel-item:first-child::after {align-self: flex-end;width: 50%;}#sk-container-id-4 div.sk-parallel-item:last-child::after {align-self: flex-start;width: 50%;}#sk-container-id-4 div.sk-parallel-item:only-child::after {width: 0;}#sk-container-id-4 div.sk-dashed-wrapped {border: 1px dashed gray;margin: 0 0.4em 0.5em 0.4em;box-sizing: border-box;padding-bottom: 0.4em;background-color: white;}#sk-container-id-4 div.sk-label label {font-family: monospace;font-weight: bold;display: inline-block;line-height: 1.2em;}#sk-container-id-4 div.sk-label-container {text-align: center;}#sk-container-id-4 div.sk-container {/* jupyter's `normalize.less` sets `[hidden] { display: none; }` but bootstrap.min.css set `[hidden] { display: none !important; }` so we also need the `!important` here to be able to override the default hidden behavior on the sphinx rendered scikit-learn.org. See: https://github.com/scikit-learn/scikit-learn/issues/21755 */display: inline-block !important;position: relative;}#sk-container-id-4 div.sk-text-repr-fallback {display: none;}</style><div id=\"sk-container-id-4\" class=\"sk-top-container\"><div class=\"sk-text-repr-fallback\"><pre>MultinomialNB()</pre><b>In a Jupyter environment, please rerun this cell to show the HTML representation or trust the notebook. <br />On GitHub, the HTML representation is unable to render, please try loading this page with nbviewer.org.</b></div><div class=\"sk-container\" hidden><div class=\"sk-item\"><div class=\"sk-estimator sk-toggleable\"><input class=\"sk-toggleable__control sk-hidden--visually\" id=\"sk-estimator-id-4\" type=\"checkbox\" checked><label for=\"sk-estimator-id-4\" class=\"sk-toggleable__label sk-toggleable__label-arrow\">MultinomialNB</label><div class=\"sk-toggleable__content\"><pre>MultinomialNB()</pre></div></div></div></div></div>"
      ],
      "text/plain": [
       "MultinomialNB()"
      ]
     },
     "execution_count": 51,
     "metadata": {},
     "output_type": "execute_result"
    }
   ],
   "source": [
    "title_clf.fit(title_vec_train,label_y_train)"
   ]
  },
  {
   "cell_type": "code",
   "execution_count": 52,
   "id": "181295e6-28ee-4a13-9538-90a9be7cb17e",
   "metadata": {
    "tags": []
   },
   "outputs": [
    {
     "data": {
      "text/plain": [
       "0.8087121212121212"
      ]
     },
     "execution_count": 52,
     "metadata": {},
     "output_type": "execute_result"
    }
   ],
   "source": [
    "title_clf.score(title_vec_test,label_y_test)"
   ]
  },
  {
   "cell_type": "markdown",
   "id": "f0c9e5be-7b56-4fc5-ad37-770cb8652ad1",
   "metadata": {},
   "source": [
    "#### Conclusion:"
   ]
  },
  {
   "cell_type": "markdown",
   "id": "69073af2-c5e5-4100-ba4b-001ea1829238",
   "metadata": {},
   "source": [
    "It appears the text classifer resulted in a higher accuracy score than the title classifer, meaning the text of a news article is more predictive than the tile of the article when it comes to determining what news is real or fake."
   ]
  },
  {
   "cell_type": "markdown",
   "id": "6e70bdcd-0178-4a0b-a0de-3588c24522cc",
   "metadata": {},
   "source": [
    "### Question 2: Are titles of real or fake news more similar to one another?"
   ]
  },
  {
   "cell_type": "markdown",
   "id": "e70841c6-0328-48b5-81c8-f8a4d266b304",
   "metadata": {
    "tags": []
   },
   "source": [
    "#### Pseudocode:"
   ]
  },
  {
   "cell_type": "markdown",
   "id": "c92f47e5-0f59-4de6-b1c2-f2dd07bea522",
   "metadata": {},
   "source": [
    "Make necessary imports for text analysis"
   ]
  },
  {
   "cell_type": "markdown",
   "id": "4adf7d7d-5124-415b-85b3-b7e4030f3e2a",
   "metadata": {},
   "source": [
    "Separate dataset into two dataframes where one holds fake news and the other holds real news"
   ]
  },
  {
   "cell_type": "markdown",
   "id": "2cd565dc-c846-41fa-a6ae-106f2ae55376",
   "metadata": {},
   "source": [
    "Choose a method for checking text similarity (e.g. euclidean distance)"
   ]
  },
  {
   "cell_type": "markdown",
   "id": "e0acd3e2-c064-4d54-8b1f-c3af6e487ba6",
   "metadata": {
    "tags": []
   },
   "source": [
    "Initialize a CountVectorizer which can convert a collection of text documents to a matrix of token counts"
   ]
  },
  {
   "cell_type": "markdown",
   "id": "ee09166c-3984-4af1-a292-03be9178d74c",
   "metadata": {},
   "source": [
    "Fit-transform the CountVectorizer with the fake news dataframe title column "
   ]
  },
  {
   "cell_type": "markdown",
   "id": "f5011838-7eb0-47af-93c1-2506cdf72cf2",
   "metadata": {},
   "source": [
    "Initialize a vocabulary variable and set it to the feature names of the CountVectorizer"
   ]
  },
  {
   "cell_type": "markdown",
   "id": "ed152eb7-6b52-4a3f-8733-6195fe48f130",
   "metadata": {},
   "source": [
    "Construct a dataframe using the CountVectorizer fit-transformation as the data and the vocabulary as the columns"
   ]
  },
  {
   "cell_type": "markdown",
   "id": "214ad689-2907-4333-8a74-c29d6a5cbd7b",
   "metadata": {},
   "source": [
    "Calculate the mean Euclidean distance for fake news titles"
   ]
  },
  {
   "cell_type": "markdown",
   "id": "37b97248-391c-4df0-a1f1-31a9bdd44ad2",
   "metadata": {
    "tags": []
   },
   "source": [
    "Repeat the dataframe construction process using the real news dataframe"
   ]
  },
  {
   "cell_type": "markdown",
   "id": "cea32301-2806-46ec-86fb-59d90c38b414",
   "metadata": {},
   "source": [
    "Compare the mean euclidean distances of the fake and real news dataframes to determine whether titles of real or fake news are more similar to one another"
   ]
  },
  {
   "cell_type": "markdown",
   "id": "1a11f876-7b2d-44cb-a48b-444a93b905a5",
   "metadata": {},
   "source": [
    "#### Implementation:"
   ]
  },
  {
   "cell_type": "code",
   "execution_count": 61,
   "id": "6d962b92-071d-4fb7-8210-c434e613bf54",
   "metadata": {
    "tags": []
   },
   "outputs": [],
   "source": [
    "import pandas as pd\n",
    "from sklearn.feature_extraction import text\n",
    "from sklearn.metrics.pairwise import euclidean_distances"
   ]
  },
  {
   "cell_type": "code",
   "execution_count": 62,
   "id": "291e8826-6ea3-4d4b-af00-205bfd1b716f",
   "metadata": {
    "tags": []
   },
   "outputs": [],
   "source": [
    "news_df = pd.read_csv('fake_or_real_news.csv')"
   ]
  },
  {
   "cell_type": "code",
   "execution_count": 63,
   "id": "a7f8ed5d-ba92-4a0a-a6b1-343b032f723c",
   "metadata": {
    "tags": []
   },
   "outputs": [],
   "source": [
    "groups = news_df.groupby('label')\n",
    "\n",
    "fake_df = groups.get_group('FAKE')\n",
    "real_df = groups.get_group('REAL')"
   ]
  },
  {
   "cell_type": "code",
   "execution_count": 64,
   "id": "39e6d483-272e-4d1a-8fdf-f1192a5154f8",
   "metadata": {
    "tags": []
   },
   "outputs": [],
   "source": [
    "counts = text.CountVectorizer()"
   ]
  },
  {
   "cell_type": "code",
   "execution_count": 65,
   "id": "f9f36301-ed7c-4aee-94b6-2b7f3fc88427",
   "metadata": {
    "tags": []
   },
   "outputs": [],
   "source": [
    "count_mat = counts.fit_transform(fake_df['title']).toarray()\n",
    "vocabulary = counts.get_feature_names_out()\n",
    "count_df = pd.DataFrame(data = count_mat, columns = vocabulary)"
   ]
  },
  {
   "cell_type": "code",
   "execution_count": 66,
   "id": "1af7b935-8542-4b04-ae29-d287a83a19ce",
   "metadata": {
    "tags": []
   },
   "outputs": [
    {
     "data": {
      "text/plain": [
       "4.635433819614329"
      ]
     },
     "execution_count": 66,
     "metadata": {},
     "output_type": "execute_result"
    }
   ],
   "source": [
    "dists = euclidean_distances(count_df)\n",
    "dists.mean()"
   ]
  },
  {
   "cell_type": "code",
   "execution_count": 67,
   "id": "621ac07b-5329-413f-9507-19d4b23885f5",
   "metadata": {
    "tags": []
   },
   "outputs": [],
   "source": [
    "count_mat = counts.fit_transform(real_df['title']).toarray()\n",
    "vocabulary = counts.get_feature_names_out()\n",
    "count_df = pd.DataFrame(data = count_mat, columns = vocabulary)"
   ]
  },
  {
   "cell_type": "code",
   "execution_count": 68,
   "id": "1e2eeb97-9de4-424d-b327-2298eeda55df",
   "metadata": {
    "tags": []
   },
   "outputs": [
    {
     "data": {
      "text/plain": [
       "4.358367837300137"
      ]
     },
     "execution_count": 68,
     "metadata": {},
     "output_type": "execute_result"
    }
   ],
   "source": [
    "dists = euclidean_distances(count_df)\n",
    "dists.mean()"
   ]
  },
  {
   "cell_type": "markdown",
   "id": "7371ffe5-67ad-40e9-a347-463ad6eccaf2",
   "metadata": {},
   "source": [
    "#### Conclusion:"
   ]
  },
  {
   "cell_type": "markdown",
   "id": "32b0c2d1-caad-497a-8e53-3811d0d91a14",
   "metadata": {},
   "source": [
    "Based on the calculated mean euclidean distances, the titles of real news are more similar to one another."
   ]
  }
 ],
 "metadata": {
  "kernelspec": {
   "display_name": "Python 3 (ipykernel)",
   "language": "python",
   "name": "python3"
  },
  "language_info": {
   "codemirror_mode": {
    "name": "ipython",
    "version": 3
   },
   "file_extension": ".py",
   "mimetype": "text/x-python",
   "name": "python",
   "nbconvert_exporter": "python",
   "pygments_lexer": "ipython3",
   "version": "3.11.4"
  }
 },
 "nbformat": 4,
 "nbformat_minor": 5
}
