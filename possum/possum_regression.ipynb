{
 "cells": [
  {
   "cell_type": "markdown",
   "id": "4fd95fc0-ec04-4739-ba48-020929b6383e",
   "metadata": {},
   "source": [
    "Necessary imports made ⬇️"
   ]
  },
  {
   "cell_type": "code",
   "execution_count": 1,
   "id": "a53e3793-920c-4b2d-b22a-4b35f39e5bb9",
   "metadata": {
    "tags": []
   },
   "outputs": [],
   "source": [
    "import pandas as pd\n",
    "from sklearn.model_selection import train_test_split\n",
    "from sklearn.model_selection import GridSearchCV\n",
    "from sklearn.svm import SVR\n",
    "from sklearn import svm\n",
    "from sklearn import tree\n",
    "from sklearn.tree import DecisionTreeRegressor\n",
    "from sklearn import datasets, linear_model, model_selection\n",
    "from sklearn.metrics import mean_squared_error, r2_score\n",
    "from sklearn.model_selection import cross_validate\n",
    "import matplotlib.pyplot as plt\n",
    "import numpy as np\n",
    "import seaborn as sns\n",
    "sns.set_theme(font_scale=2,palette='colorblind')"
   ]
  },
  {
   "cell_type": "code",
   "execution_count": 2,
   "id": "6c68b8bf-70d5-4f15-925e-6f511416ecfb",
   "metadata": {
    "tags": []
   },
   "outputs": [],
   "source": [
    "possum_df = pd.read_csv('possum.csv')"
   ]
  },
  {
   "cell_type": "code",
   "execution_count": 3,
   "id": "5e34b547-ac5b-49eb-8f03-582734b9abed",
   "metadata": {
    "tags": []
   },
   "outputs": [
    {
     "data": {
      "text/html": [
       "<div>\n",
       "<style scoped>\n",
       "    .dataframe tbody tr th:only-of-type {\n",
       "        vertical-align: middle;\n",
       "    }\n",
       "\n",
       "    .dataframe tbody tr th {\n",
       "        vertical-align: top;\n",
       "    }\n",
       "\n",
       "    .dataframe thead th {\n",
       "        text-align: right;\n",
       "    }\n",
       "</style>\n",
       "<table border=\"1\" class=\"dataframe\">\n",
       "  <thead>\n",
       "    <tr style=\"text-align: right;\">\n",
       "      <th></th>\n",
       "      <th>case</th>\n",
       "      <th>site</th>\n",
       "      <th>Pop</th>\n",
       "      <th>sex</th>\n",
       "      <th>age</th>\n",
       "      <th>hdlngth</th>\n",
       "      <th>skullw</th>\n",
       "      <th>totlngth</th>\n",
       "      <th>taill</th>\n",
       "      <th>footlgth</th>\n",
       "      <th>earconch</th>\n",
       "      <th>eye</th>\n",
       "      <th>chest</th>\n",
       "      <th>belly</th>\n",
       "    </tr>\n",
       "  </thead>\n",
       "  <tbody>\n",
       "    <tr>\n",
       "      <th>0</th>\n",
       "      <td>1</td>\n",
       "      <td>1</td>\n",
       "      <td>Vic</td>\n",
       "      <td>m</td>\n",
       "      <td>8.0</td>\n",
       "      <td>94.1</td>\n",
       "      <td>60.4</td>\n",
       "      <td>89.0</td>\n",
       "      <td>36.0</td>\n",
       "      <td>74.5</td>\n",
       "      <td>54.5</td>\n",
       "      <td>15.2</td>\n",
       "      <td>28.0</td>\n",
       "      <td>36.0</td>\n",
       "    </tr>\n",
       "  </tbody>\n",
       "</table>\n",
       "</div>"
      ],
      "text/plain": [
       "   case  site  Pop sex  age  hdlngth  skullw  totlngth  taill  footlgth  \\\n",
       "0     1     1  Vic   m  8.0     94.1    60.4      89.0   36.0      74.5   \n",
       "\n",
       "   earconch   eye  chest  belly  \n",
       "0      54.5  15.2   28.0   36.0  "
      ]
     },
     "execution_count": 3,
     "metadata": {},
     "output_type": "execute_result"
    }
   ],
   "source": [
    "possum_df.head(1)"
   ]
  },
  {
   "cell_type": "markdown",
   "id": "8d1fe98e-1594-41a4-90ba-fb8be0bcbc86",
   "metadata": {},
   "source": [
    "We can reshape and clean this data to improve clarity for our analyses."
   ]
  },
  {
   "cell_type": "markdown",
   "id": "109f4a04-8761-42e3-baea-f1bf57163453",
   "metadata": {},
   "source": [
    "## Preparing our dataset"
   ]
  },
  {
   "cell_type": "code",
   "execution_count": 4,
   "id": "4b2874d1-fb33-4d04-b289-96ce0fa7c690",
   "metadata": {
    "tags": []
   },
   "outputs": [],
   "source": [
    "new_columns = {'Pop': 'population','hdlngth' : 'head_length', 'skullw' : 'skull_width', 'totlngth' : 'total_length', 'taill' : 'tail_length', 'footlgth' : 'foot_length', 'earconch' : 'ear_conch_length', 'eye' : 'interpupillary_distance', 'chest' : 'chest_girth', 'belly' : 'belly_girth'}"
   ]
  },
  {
   "cell_type": "code",
   "execution_count": 5,
   "id": "f9d901a3-a395-4cee-87b8-ba947702fb59",
   "metadata": {
    "tags": []
   },
   "outputs": [],
   "source": [
    "possum_df = possum_df.rename(columns=new_columns)"
   ]
  },
  {
   "cell_type": "code",
   "execution_count": 6,
   "id": "7ed826f4-c22c-4ead-a2fd-b74518e936a9",
   "metadata": {
    "tags": []
   },
   "outputs": [
    {
     "data": {
      "text/html": [
       "<div>\n",
       "<style scoped>\n",
       "    .dataframe tbody tr th:only-of-type {\n",
       "        vertical-align: middle;\n",
       "    }\n",
       "\n",
       "    .dataframe tbody tr th {\n",
       "        vertical-align: top;\n",
       "    }\n",
       "\n",
       "    .dataframe thead th {\n",
       "        text-align: right;\n",
       "    }\n",
       "</style>\n",
       "<table border=\"1\" class=\"dataframe\">\n",
       "  <thead>\n",
       "    <tr style=\"text-align: right;\">\n",
       "      <th></th>\n",
       "      <th>case</th>\n",
       "      <th>site</th>\n",
       "      <th>population</th>\n",
       "      <th>sex</th>\n",
       "      <th>age</th>\n",
       "      <th>head_length</th>\n",
       "      <th>skull_width</th>\n",
       "      <th>total_length</th>\n",
       "      <th>tail_length</th>\n",
       "      <th>foot_length</th>\n",
       "      <th>ear_conch_length</th>\n",
       "      <th>interpupillary_distance</th>\n",
       "      <th>chest_girth</th>\n",
       "      <th>belly_girth</th>\n",
       "    </tr>\n",
       "  </thead>\n",
       "  <tbody>\n",
       "    <tr>\n",
       "      <th>0</th>\n",
       "      <td>1</td>\n",
       "      <td>1</td>\n",
       "      <td>Vic</td>\n",
       "      <td>m</td>\n",
       "      <td>8.0</td>\n",
       "      <td>94.1</td>\n",
       "      <td>60.4</td>\n",
       "      <td>89.0</td>\n",
       "      <td>36.0</td>\n",
       "      <td>74.5</td>\n",
       "      <td>54.5</td>\n",
       "      <td>15.2</td>\n",
       "      <td>28.0</td>\n",
       "      <td>36.0</td>\n",
       "    </tr>\n",
       "  </tbody>\n",
       "</table>\n",
       "</div>"
      ],
      "text/plain": [
       "   case  site population sex  age  head_length  skull_width  total_length  \\\n",
       "0     1     1        Vic   m  8.0         94.1         60.4          89.0   \n",
       "\n",
       "   tail_length  foot_length  ear_conch_length  interpupillary_distance  \\\n",
       "0         36.0         74.5              54.5                     15.2   \n",
       "\n",
       "   chest_girth  belly_girth  \n",
       "0         28.0         36.0  "
      ]
     },
     "execution_count": 6,
     "metadata": {},
     "output_type": "execute_result"
    }
   ],
   "source": [
    "possum_df.head(1)"
   ]
  },
  {
   "cell_type": "markdown",
   "id": "dd6f2f9d-4a99-43f6-8718-0df0e7b58b4c",
   "metadata": {
    "tags": []
   },
   "source": [
    "We can also change some categorical values to improve clarity."
   ]
  },
  {
   "cell_type": "markdown",
   "id": "8fbb1479-45c0-4b21-bf83-e82e7b7476c0",
   "metadata": {},
   "source": [
    "These column names are much more descriptive and less likely to confuse users."
   ]
  },
  {
   "cell_type": "code",
   "execution_count": 7,
   "id": "769dde97-e428-499e-9011-29c1c2c2276d",
   "metadata": {
    "tags": []
   },
   "outputs": [],
   "source": [
    "population_dict = {'Vic': 'Victoria','other': 'New South Wales or Queensland'}\n",
    "sex_dict = {'m' : 'male', 'f' : 'female'}"
   ]
  },
  {
   "cell_type": "code",
   "execution_count": 8,
   "id": "5c7f1eb6-6207-43d9-8959-7594577af33e",
   "metadata": {
    "tags": []
   },
   "outputs": [],
   "source": [
    "possum_df['population'] = possum_df['population'].replace(population_dict)"
   ]
  },
  {
   "cell_type": "code",
   "execution_count": 9,
   "id": "d01b9041-78f4-49bc-91ab-f3582e47015b",
   "metadata": {
    "tags": []
   },
   "outputs": [],
   "source": [
    "possum_df['sex'] = possum_df['sex'].replace(sex_dict)"
   ]
  },
  {
   "cell_type": "code",
   "execution_count": 10,
   "id": "5a94056f-2224-4964-8709-1e2143a11400",
   "metadata": {
    "tags": []
   },
   "outputs": [
    {
     "data": {
      "text/html": [
       "<div>\n",
       "<style scoped>\n",
       "    .dataframe tbody tr th:only-of-type {\n",
       "        vertical-align: middle;\n",
       "    }\n",
       "\n",
       "    .dataframe tbody tr th {\n",
       "        vertical-align: top;\n",
       "    }\n",
       "\n",
       "    .dataframe thead th {\n",
       "        text-align: right;\n",
       "    }\n",
       "</style>\n",
       "<table border=\"1\" class=\"dataframe\">\n",
       "  <thead>\n",
       "    <tr style=\"text-align: right;\">\n",
       "      <th></th>\n",
       "      <th>case</th>\n",
       "      <th>site</th>\n",
       "      <th>population</th>\n",
       "      <th>sex</th>\n",
       "      <th>age</th>\n",
       "      <th>head_length</th>\n",
       "      <th>skull_width</th>\n",
       "      <th>total_length</th>\n",
       "      <th>tail_length</th>\n",
       "      <th>foot_length</th>\n",
       "      <th>ear_conch_length</th>\n",
       "      <th>interpupillary_distance</th>\n",
       "      <th>chest_girth</th>\n",
       "      <th>belly_girth</th>\n",
       "    </tr>\n",
       "  </thead>\n",
       "  <tbody>\n",
       "    <tr>\n",
       "      <th>52</th>\n",
       "      <td>53</td>\n",
       "      <td>3</td>\n",
       "      <td>New South Wales or Queensland</td>\n",
       "      <td>female</td>\n",
       "      <td>3.0</td>\n",
       "      <td>93.1</td>\n",
       "      <td>58.1</td>\n",
       "      <td>91.0</td>\n",
       "      <td>38.0</td>\n",
       "      <td>67.4</td>\n",
       "      <td>46.0</td>\n",
       "      <td>16.5</td>\n",
       "      <td>26.0</td>\n",
       "      <td>33.5</td>\n",
       "    </tr>\n",
       "    <tr>\n",
       "      <th>43</th>\n",
       "      <td>44</td>\n",
       "      <td>2</td>\n",
       "      <td>Victoria</td>\n",
       "      <td>male</td>\n",
       "      <td>NaN</td>\n",
       "      <td>85.1</td>\n",
       "      <td>51.5</td>\n",
       "      <td>76.0</td>\n",
       "      <td>35.5</td>\n",
       "      <td>70.3</td>\n",
       "      <td>52.6</td>\n",
       "      <td>14.4</td>\n",
       "      <td>23.0</td>\n",
       "      <td>27.0</td>\n",
       "    </tr>\n",
       "    <tr>\n",
       "      <th>75</th>\n",
       "      <td>76</td>\n",
       "      <td>6</td>\n",
       "      <td>New South Wales or Queensland</td>\n",
       "      <td>male</td>\n",
       "      <td>5.0</td>\n",
       "      <td>92.4</td>\n",
       "      <td>56.8</td>\n",
       "      <td>89.0</td>\n",
       "      <td>41.0</td>\n",
       "      <td>64.5</td>\n",
       "      <td>46.4</td>\n",
       "      <td>17.8</td>\n",
       "      <td>26.0</td>\n",
       "      <td>33.0</td>\n",
       "    </tr>\n",
       "    <tr>\n",
       "      <th>19</th>\n",
       "      <td>20</td>\n",
       "      <td>1</td>\n",
       "      <td>Victoria</td>\n",
       "      <td>female</td>\n",
       "      <td>4.0</td>\n",
       "      <td>94.8</td>\n",
       "      <td>56.3</td>\n",
       "      <td>89.0</td>\n",
       "      <td>38.0</td>\n",
       "      <td>73.8</td>\n",
       "      <td>52.4</td>\n",
       "      <td>15.5</td>\n",
       "      <td>27.0</td>\n",
       "      <td>36.0</td>\n",
       "    </tr>\n",
       "    <tr>\n",
       "      <th>96</th>\n",
       "      <td>97</td>\n",
       "      <td>7</td>\n",
       "      <td>New South Wales or Queensland</td>\n",
       "      <td>male</td>\n",
       "      <td>3.0</td>\n",
       "      <td>91.0</td>\n",
       "      <td>53.1</td>\n",
       "      <td>86.0</td>\n",
       "      <td>38.0</td>\n",
       "      <td>63.8</td>\n",
       "      <td>46.0</td>\n",
       "      <td>14.5</td>\n",
       "      <td>25.0</td>\n",
       "      <td>31.5</td>\n",
       "    </tr>\n",
       "  </tbody>\n",
       "</table>\n",
       "</div>"
      ],
      "text/plain": [
       "    case  site                     population     sex  age  head_length  \\\n",
       "52    53     3  New South Wales or Queensland  female  3.0         93.1   \n",
       "43    44     2                       Victoria    male  NaN         85.1   \n",
       "75    76     6  New South Wales or Queensland    male  5.0         92.4   \n",
       "19    20     1                       Victoria  female  4.0         94.8   \n",
       "96    97     7  New South Wales or Queensland    male  3.0         91.0   \n",
       "\n",
       "    skull_width  total_length  tail_length  foot_length  ear_conch_length  \\\n",
       "52         58.1          91.0         38.0         67.4              46.0   \n",
       "43         51.5          76.0         35.5         70.3              52.6   \n",
       "75         56.8          89.0         41.0         64.5              46.4   \n",
       "19         56.3          89.0         38.0         73.8              52.4   \n",
       "96         53.1          86.0         38.0         63.8              46.0   \n",
       "\n",
       "    interpupillary_distance  chest_girth  belly_girth  \n",
       "52                     16.5         26.0         33.5  \n",
       "43                     14.4         23.0         27.0  \n",
       "75                     17.8         26.0         33.0  \n",
       "19                     15.5         27.0         36.0  \n",
       "96                     14.5         25.0         31.5  "
      ]
     },
     "execution_count": 10,
     "metadata": {},
     "output_type": "execute_result"
    }
   ],
   "source": [
    "possum_df.sample(5)"
   ]
  },
  {
   "cell_type": "markdown",
   "id": "4c90d05d-87e1-469b-9673-3f62c3d720e0",
   "metadata": {},
   "source": [
    "We can handle missing values in two ways..."
   ]
  },
  {
   "cell_type": "markdown",
   "id": "0d2b08b3-6365-4969-833e-52841625412a",
   "metadata": {},
   "source": [
    "First, we can replace missing values with estimated values."
   ]
  },
  {
   "cell_type": "markdown",
   "id": "b1a9d5f6-1957-457a-a368-c458ac422b51",
   "metadata": {},
   "source": [
    "Lambda function to fill missing values with the mean of the respective column values."
   ]
  },
  {
   "cell_type": "code",
   "execution_count": 11,
   "id": "789d4ee1-d3e5-4bb3-934a-574a857f5fb6",
   "metadata": {
    "tags": []
   },
   "outputs": [],
   "source": [
    "replace_missing = lambda col: col.fillna(col.mean())"
   ]
  },
  {
   "cell_type": "code",
   "execution_count": 12,
   "id": "7991cb6a-c168-47c6-b53b-62ce18e411d1",
   "metadata": {
    "tags": []
   },
   "outputs": [],
   "source": [
    "possum_df['head_length'] = replace_missing(possum_df['head_length'])\n",
    "possum_df['skull_width'] = replace_missing(possum_df['skull_width'])\n",
    "possum_df['total_length'] = replace_missing(possum_df['total_length'])\n",
    "possum_df['tail_length'] = replace_missing(possum_df['tail_length'])\n",
    "possum_df['foot_length'] = replace_missing(possum_df['foot_length'])\n",
    "possum_df['ear_conch_length'] = replace_missing(possum_df['ear_conch_length'])\n",
    "possum_df['interpupillary_distance'] = replace_missing(possum_df['interpupillary_distance'])\n",
    "possum_df['chest_girth'] = replace_missing(possum_df['chest_girth'])\n",
    "possum_df['belly_girth'] = replace_missing(possum_df['belly_girth'])"
   ]
  },
  {
   "cell_type": "code",
   "execution_count": 13,
   "id": "e113a7e3-00b9-4d16-91c9-20fab85a2d75",
   "metadata": {
    "tags": []
   },
   "outputs": [
    {
     "data": {
      "text/plain": [
       "(104, 14)"
      ]
     },
     "execution_count": 13,
     "metadata": {},
     "output_type": "execute_result"
    }
   ],
   "source": [
    "possum_df.shape"
   ]
  },
  {
   "cell_type": "markdown",
   "id": "85372c83-61e4-4360-99be-20b16d93fed5",
   "metadata": {},
   "source": [
    "Secondly, we can remove rows with remaining missing values."
   ]
  },
  {
   "cell_type": "code",
   "execution_count": 14,
   "id": "7b5293ff-580d-462f-8954-077e637be5e6",
   "metadata": {
    "tags": []
   },
   "outputs": [],
   "source": [
    "possum_df = possum_df.dropna()"
   ]
  },
  {
   "cell_type": "code",
   "execution_count": 15,
   "id": "8cfaad48-b20f-4e64-9b98-07e7282dbec4",
   "metadata": {
    "tags": []
   },
   "outputs": [
    {
     "data": {
      "text/plain": [
       "(102, 14)"
      ]
     },
     "execution_count": 15,
     "metadata": {},
     "output_type": "execute_result"
    }
   ],
   "source": [
    "possum_df.shape"
   ]
  },
  {
   "cell_type": "markdown",
   "id": "f452e649-7e26-4d32-a6f3-f9d4af34eead",
   "metadata": {},
   "source": [
    "Two rows with missing values were removed"
   ]
  },
  {
   "cell_type": "markdown",
   "id": "ff7aedda-4bfc-459d-8faa-562f174c450b",
   "metadata": {},
   "source": [
    "## Linear regression"
   ]
  },
  {
   "cell_type": "code",
   "execution_count": 16,
   "id": "adca3065-87b6-4e48-8bbb-6975d7f5878c",
   "metadata": {
    "tags": []
   },
   "outputs": [],
   "source": [
    "target_var = 'age'\n",
    "categorical_vars = ['population', 'sex']"
   ]
  },
  {
   "cell_type": "markdown",
   "id": "b38aed77-7f75-4161-9036-c5372aaf1d66",
   "metadata": {},
   "source": [
    "This categorical data is not appropriate for linear regression. The target variable / variable to predict and the features should be continuous / numerical. For prediction purposes, we must drop the target variable."
   ]
  },
  {
   "cell_type": "code",
   "execution_count": 17,
   "id": "0cab4a38-ff14-4c91-9485-9bb197d9d626",
   "metadata": {
    "tags": []
   },
   "outputs": [],
   "source": [
    "possum_X = possum_df.drop(categorical_vars, axis=1)\n",
    "possum_X = possum_X.drop(target_var, axis=1)"
   ]
  },
  {
   "cell_type": "code",
   "execution_count": 18,
   "id": "f5adcf1e-9a38-48af-87e2-d623e732997b",
   "metadata": {
    "tags": []
   },
   "outputs": [],
   "source": [
    "possum_y = possum_df[target_var]"
   ]
  },
  {
   "cell_type": "code",
   "execution_count": 19,
   "id": "edaec4da-3f6e-4815-8e7f-47083421e12c",
   "metadata": {
    "tags": []
   },
   "outputs": [
    {
     "data": {
      "text/plain": [
       "((102,), (102, 11))"
      ]
     },
     "execution_count": 19,
     "metadata": {},
     "output_type": "execute_result"
    }
   ],
   "source": [
    "possum_y.shape, possum_X.shape"
   ]
  },
  {
   "cell_type": "code",
   "execution_count": 20,
   "id": "d6f2a288-b37e-4db3-889d-22aec95951c8",
   "metadata": {
    "tags": []
   },
   "outputs": [],
   "source": [
    "possum_X_train, possum_X_test, possum_y_train, possum_y_test = train_test_split(possum_X, possum_y)"
   ]
  },
  {
   "cell_type": "code",
   "execution_count": 21,
   "id": "d5b3fb5a-e24b-4f3b-b882-52a645e55552",
   "metadata": {
    "tags": []
   },
   "outputs": [],
   "source": [
    "regr = linear_model.LinearRegression()"
   ]
  },
  {
   "cell_type": "markdown",
   "id": "2e6c6082-9191-41a8-80f5-4b80c62c8768",
   "metadata": {},
   "source": [
    "We will use linear regression to predict the ages of the possum based on their features. Regression is used in the real world to predict weather, prices, and more."
   ]
  },
  {
   "cell_type": "markdown",
   "id": "1b30dd0c-d28f-40b5-ad8f-44576e57fd92",
   "metadata": {},
   "source": [
    "Linear regression takes input and attempts to find a line with the best fit to predict outputs."
   ]
  },
  {
   "cell_type": "code",
   "execution_count": 22,
   "id": "a1616e91-d18f-4764-8bea-0fda9ee01d23",
   "metadata": {
    "tags": []
   },
   "outputs": [
    {
     "data": {
      "text/html": [
       "<style>#sk-container-id-1 {color: black;}#sk-container-id-1 pre{padding: 0;}#sk-container-id-1 div.sk-toggleable {background-color: white;}#sk-container-id-1 label.sk-toggleable__label {cursor: pointer;display: block;width: 100%;margin-bottom: 0;padding: 0.3em;box-sizing: border-box;text-align: center;}#sk-container-id-1 label.sk-toggleable__label-arrow:before {content: \"▸\";float: left;margin-right: 0.25em;color: #696969;}#sk-container-id-1 label.sk-toggleable__label-arrow:hover:before {color: black;}#sk-container-id-1 div.sk-estimator:hover label.sk-toggleable__label-arrow:before {color: black;}#sk-container-id-1 div.sk-toggleable__content {max-height: 0;max-width: 0;overflow: hidden;text-align: left;background-color: #f0f8ff;}#sk-container-id-1 div.sk-toggleable__content pre {margin: 0.2em;color: black;border-radius: 0.25em;background-color: #f0f8ff;}#sk-container-id-1 input.sk-toggleable__control:checked~div.sk-toggleable__content {max-height: 200px;max-width: 100%;overflow: auto;}#sk-container-id-1 input.sk-toggleable__control:checked~label.sk-toggleable__label-arrow:before {content: \"▾\";}#sk-container-id-1 div.sk-estimator input.sk-toggleable__control:checked~label.sk-toggleable__label {background-color: #d4ebff;}#sk-container-id-1 div.sk-label input.sk-toggleable__control:checked~label.sk-toggleable__label {background-color: #d4ebff;}#sk-container-id-1 input.sk-hidden--visually {border: 0;clip: rect(1px 1px 1px 1px);clip: rect(1px, 1px, 1px, 1px);height: 1px;margin: -1px;overflow: hidden;padding: 0;position: absolute;width: 1px;}#sk-container-id-1 div.sk-estimator {font-family: monospace;background-color: #f0f8ff;border: 1px dotted black;border-radius: 0.25em;box-sizing: border-box;margin-bottom: 0.5em;}#sk-container-id-1 div.sk-estimator:hover {background-color: #d4ebff;}#sk-container-id-1 div.sk-parallel-item::after {content: \"\";width: 100%;border-bottom: 1px solid gray;flex-grow: 1;}#sk-container-id-1 div.sk-label:hover label.sk-toggleable__label {background-color: #d4ebff;}#sk-container-id-1 div.sk-serial::before {content: \"\";position: absolute;border-left: 1px solid gray;box-sizing: border-box;top: 0;bottom: 0;left: 50%;z-index: 0;}#sk-container-id-1 div.sk-serial {display: flex;flex-direction: column;align-items: center;background-color: white;padding-right: 0.2em;padding-left: 0.2em;position: relative;}#sk-container-id-1 div.sk-item {position: relative;z-index: 1;}#sk-container-id-1 div.sk-parallel {display: flex;align-items: stretch;justify-content: center;background-color: white;position: relative;}#sk-container-id-1 div.sk-item::before, #sk-container-id-1 div.sk-parallel-item::before {content: \"\";position: absolute;border-left: 1px solid gray;box-sizing: border-box;top: 0;bottom: 0;left: 50%;z-index: -1;}#sk-container-id-1 div.sk-parallel-item {display: flex;flex-direction: column;z-index: 1;position: relative;background-color: white;}#sk-container-id-1 div.sk-parallel-item:first-child::after {align-self: flex-end;width: 50%;}#sk-container-id-1 div.sk-parallel-item:last-child::after {align-self: flex-start;width: 50%;}#sk-container-id-1 div.sk-parallel-item:only-child::after {width: 0;}#sk-container-id-1 div.sk-dashed-wrapped {border: 1px dashed gray;margin: 0 0.4em 0.5em 0.4em;box-sizing: border-box;padding-bottom: 0.4em;background-color: white;}#sk-container-id-1 div.sk-label label {font-family: monospace;font-weight: bold;display: inline-block;line-height: 1.2em;}#sk-container-id-1 div.sk-label-container {text-align: center;}#sk-container-id-1 div.sk-container {/* jupyter's `normalize.less` sets `[hidden] { display: none; }` but bootstrap.min.css set `[hidden] { display: none !important; }` so we also need the `!important` here to be able to override the default hidden behavior on the sphinx rendered scikit-learn.org. See: https://github.com/scikit-learn/scikit-learn/issues/21755 */display: inline-block !important;position: relative;}#sk-container-id-1 div.sk-text-repr-fallback {display: none;}</style><div id=\"sk-container-id-1\" class=\"sk-top-container\"><div class=\"sk-text-repr-fallback\"><pre>LinearRegression()</pre><b>In a Jupyter environment, please rerun this cell to show the HTML representation or trust the notebook. <br />On GitHub, the HTML representation is unable to render, please try loading this page with nbviewer.org.</b></div><div class=\"sk-container\" hidden><div class=\"sk-item\"><div class=\"sk-estimator sk-toggleable\"><input class=\"sk-toggleable__control sk-hidden--visually\" id=\"sk-estimator-id-1\" type=\"checkbox\" checked><label for=\"sk-estimator-id-1\" class=\"sk-toggleable__label sk-toggleable__label-arrow\">LinearRegression</label><div class=\"sk-toggleable__content\"><pre>LinearRegression()</pre></div></div></div></div></div>"
      ],
      "text/plain": [
       "LinearRegression()"
      ]
     },
     "execution_count": 22,
     "metadata": {},
     "output_type": "execute_result"
    }
   ],
   "source": [
    "regr.fit(possum_X_train, possum_y_train)"
   ]
  },
  {
   "cell_type": "code",
   "execution_count": 23,
   "id": "667a2ded-4c3b-4aa6-9663-3e1cb5f768c5",
   "metadata": {
    "tags": []
   },
   "outputs": [],
   "source": [
    "possum_y_pred = regr.predict(possum_X_test)"
   ]
  },
  {
   "cell_type": "code",
   "execution_count": 24,
   "id": "55d2c5c4-2de1-405a-bfd6-7478d8cf403b",
   "metadata": {
    "tags": []
   },
   "outputs": [
    {
     "data": {
      "text/plain": [
       "count    26.000000\n",
       "mean      3.346154\n",
       "std       1.671940\n",
       "min       1.000000\n",
       "25%       2.000000\n",
       "50%       3.000000\n",
       "75%       5.000000\n",
       "max       6.000000\n",
       "Name: age, dtype: float64"
      ]
     },
     "execution_count": 24,
     "metadata": {},
     "output_type": "execute_result"
    }
   ],
   "source": [
    "possum_y_test.describe()"
   ]
  },
  {
   "cell_type": "code",
   "execution_count": 25,
   "id": "9a7e2eef-24e3-40c8-8b6e-ad72357e522d",
   "metadata": {
    "tags": []
   },
   "outputs": [
    {
     "data": {
      "text/plain": [
       "(3.3461538461538463, 2.7953846153846156)"
      ]
     },
     "execution_count": 25,
     "metadata": {},
     "output_type": "execute_result"
    }
   ],
   "source": [
    "avg_age = possum_y_test.mean()\n",
    "age_var = possum_y_test.var()\n",
    "avg_age, age_var"
   ]
  },
  {
   "cell_type": "markdown",
   "id": "bc019e88-e946-408e-b840-3abc142b5e8d",
   "metadata": {},
   "source": [
    "(Average age, age variance)"
   ]
  },
  {
   "cell_type": "code",
   "execution_count": 26,
   "id": "a8c0b919-5e53-4a54-a733-540bf7257390",
   "metadata": {
    "tags": []
   },
   "outputs": [
    {
     "data": {
      "text/plain": [
       "3.2168143754675356"
      ]
     },
     "execution_count": 26,
     "metadata": {},
     "output_type": "execute_result"
    }
   ],
   "source": [
    "mean_squared_error(possum_y_test, possum_y_pred)"
   ]
  },
  {
   "cell_type": "markdown",
   "id": "48185942-b7ad-4c98-a767-e1f35edf67cb",
   "metadata": {},
   "source": [
    "We can see that our mean squared error is high for such a small range of age/target values."
   ]
  },
  {
   "cell_type": "code",
   "execution_count": 27,
   "id": "8dbf8c8e-b119-4007-aa78-28b60d9df5e0",
   "metadata": {
    "tags": []
   },
   "outputs": [
    {
     "data": {
      "text/plain": [
       "-0.19678949797251177"
      ]
     },
     "execution_count": 27,
     "metadata": {},
     "output_type": "execute_result"
    }
   ],
   "source": [
    "regr.score(possum_X_test,possum_y_test)"
   ]
  },
  {
   "cell_type": "markdown",
   "id": "9b6ad657-55fb-4e9a-a337-c8ff3e898d21",
   "metadata": {},
   "source": [
    "This weak regression score value indicates that this is likely a bad fit."
   ]
  },
  {
   "cell_type": "markdown",
   "id": "ab6da1b5-caf2-46ad-951b-113f2d2fc453",
   "metadata": {},
   "source": [
    "Our mean squared error and negative r2 score is not ideal so we can try optimizing our linear regression model."
   ]
  },
  {
   "cell_type": "markdown",
   "id": "a0f172e1-573c-41c9-aca4-3301d82ac322",
   "metadata": {},
   "source": [
    "A parameter grid is established to be used by GridSearchCV"
   ]
  },
  {
   "cell_type": "code",
   "execution_count": 28,
   "id": "26ba3539-7b5c-45bb-ae2e-692aa80ead03",
   "metadata": {
    "tags": []
   },
   "outputs": [],
   "source": [
    "param_grid = {\n",
    "    'fit_intercept' : [True, False],\n",
    "    'copy_X' : [True, False],\n",
    "    'n_jobs' : [0, 1, 2, 4, 8],\n",
    "    'positive' : [True, False]\n",
    "}"
   ]
  },
  {
   "cell_type": "markdown",
   "id": "65397e9e-78b8-49cc-bd3e-bf8329ffafd6",
   "metadata": {},
   "source": [
    "Parameters can greatly impact model performance (time, score, computational complexity) which is why GridSearchCV is used to identify the combination that is best for our model's performance."
   ]
  },
  {
   "cell_type": "code",
   "execution_count": 29,
   "id": "4cb281d9-538f-441b-90e0-2fe1c71a3cb9",
   "metadata": {
    "tags": []
   },
   "outputs": [],
   "source": [
    "regr_opt = model_selection.GridSearchCV(regr,param_grid,cv=10)"
   ]
  },
  {
   "cell_type": "code",
   "execution_count": 30,
   "id": "025a39a8-2070-42a0-bfe5-f9ca9b4d0f9f",
   "metadata": {
    "tags": []
   },
   "outputs": [
    {
     "data": {
      "text/html": [
       "<style>#sk-container-id-2 {color: black;}#sk-container-id-2 pre{padding: 0;}#sk-container-id-2 div.sk-toggleable {background-color: white;}#sk-container-id-2 label.sk-toggleable__label {cursor: pointer;display: block;width: 100%;margin-bottom: 0;padding: 0.3em;box-sizing: border-box;text-align: center;}#sk-container-id-2 label.sk-toggleable__label-arrow:before {content: \"▸\";float: left;margin-right: 0.25em;color: #696969;}#sk-container-id-2 label.sk-toggleable__label-arrow:hover:before {color: black;}#sk-container-id-2 div.sk-estimator:hover label.sk-toggleable__label-arrow:before {color: black;}#sk-container-id-2 div.sk-toggleable__content {max-height: 0;max-width: 0;overflow: hidden;text-align: left;background-color: #f0f8ff;}#sk-container-id-2 div.sk-toggleable__content pre {margin: 0.2em;color: black;border-radius: 0.25em;background-color: #f0f8ff;}#sk-container-id-2 input.sk-toggleable__control:checked~div.sk-toggleable__content {max-height: 200px;max-width: 100%;overflow: auto;}#sk-container-id-2 input.sk-toggleable__control:checked~label.sk-toggleable__label-arrow:before {content: \"▾\";}#sk-container-id-2 div.sk-estimator input.sk-toggleable__control:checked~label.sk-toggleable__label {background-color: #d4ebff;}#sk-container-id-2 div.sk-label input.sk-toggleable__control:checked~label.sk-toggleable__label {background-color: #d4ebff;}#sk-container-id-2 input.sk-hidden--visually {border: 0;clip: rect(1px 1px 1px 1px);clip: rect(1px, 1px, 1px, 1px);height: 1px;margin: -1px;overflow: hidden;padding: 0;position: absolute;width: 1px;}#sk-container-id-2 div.sk-estimator {font-family: monospace;background-color: #f0f8ff;border: 1px dotted black;border-radius: 0.25em;box-sizing: border-box;margin-bottom: 0.5em;}#sk-container-id-2 div.sk-estimator:hover {background-color: #d4ebff;}#sk-container-id-2 div.sk-parallel-item::after {content: \"\";width: 100%;border-bottom: 1px solid gray;flex-grow: 1;}#sk-container-id-2 div.sk-label:hover label.sk-toggleable__label {background-color: #d4ebff;}#sk-container-id-2 div.sk-serial::before {content: \"\";position: absolute;border-left: 1px solid gray;box-sizing: border-box;top: 0;bottom: 0;left: 50%;z-index: 0;}#sk-container-id-2 div.sk-serial {display: flex;flex-direction: column;align-items: center;background-color: white;padding-right: 0.2em;padding-left: 0.2em;position: relative;}#sk-container-id-2 div.sk-item {position: relative;z-index: 1;}#sk-container-id-2 div.sk-parallel {display: flex;align-items: stretch;justify-content: center;background-color: white;position: relative;}#sk-container-id-2 div.sk-item::before, #sk-container-id-2 div.sk-parallel-item::before {content: \"\";position: absolute;border-left: 1px solid gray;box-sizing: border-box;top: 0;bottom: 0;left: 50%;z-index: -1;}#sk-container-id-2 div.sk-parallel-item {display: flex;flex-direction: column;z-index: 1;position: relative;background-color: white;}#sk-container-id-2 div.sk-parallel-item:first-child::after {align-self: flex-end;width: 50%;}#sk-container-id-2 div.sk-parallel-item:last-child::after {align-self: flex-start;width: 50%;}#sk-container-id-2 div.sk-parallel-item:only-child::after {width: 0;}#sk-container-id-2 div.sk-dashed-wrapped {border: 1px dashed gray;margin: 0 0.4em 0.5em 0.4em;box-sizing: border-box;padding-bottom: 0.4em;background-color: white;}#sk-container-id-2 div.sk-label label {font-family: monospace;font-weight: bold;display: inline-block;line-height: 1.2em;}#sk-container-id-2 div.sk-label-container {text-align: center;}#sk-container-id-2 div.sk-container {/* jupyter's `normalize.less` sets `[hidden] { display: none; }` but bootstrap.min.css set `[hidden] { display: none !important; }` so we also need the `!important` here to be able to override the default hidden behavior on the sphinx rendered scikit-learn.org. See: https://github.com/scikit-learn/scikit-learn/issues/21755 */display: inline-block !important;position: relative;}#sk-container-id-2 div.sk-text-repr-fallback {display: none;}</style><div id=\"sk-container-id-2\" class=\"sk-top-container\"><div class=\"sk-text-repr-fallback\"><pre>GridSearchCV(cv=10, estimator=LinearRegression(),\n",
       "             param_grid={&#x27;copy_X&#x27;: [True, False],\n",
       "                         &#x27;fit_intercept&#x27;: [True, False],\n",
       "                         &#x27;n_jobs&#x27;: [0, 1, 2, 4, 8], &#x27;positive&#x27;: [True, False]})</pre><b>In a Jupyter environment, please rerun this cell to show the HTML representation or trust the notebook. <br />On GitHub, the HTML representation is unable to render, please try loading this page with nbviewer.org.</b></div><div class=\"sk-container\" hidden><div class=\"sk-item sk-dashed-wrapped\"><div class=\"sk-label-container\"><div class=\"sk-label sk-toggleable\"><input class=\"sk-toggleable__control sk-hidden--visually\" id=\"sk-estimator-id-2\" type=\"checkbox\" ><label for=\"sk-estimator-id-2\" class=\"sk-toggleable__label sk-toggleable__label-arrow\">GridSearchCV</label><div class=\"sk-toggleable__content\"><pre>GridSearchCV(cv=10, estimator=LinearRegression(),\n",
       "             param_grid={&#x27;copy_X&#x27;: [True, False],\n",
       "                         &#x27;fit_intercept&#x27;: [True, False],\n",
       "                         &#x27;n_jobs&#x27;: [0, 1, 2, 4, 8], &#x27;positive&#x27;: [True, False]})</pre></div></div></div><div class=\"sk-parallel\"><div class=\"sk-parallel-item\"><div class=\"sk-item\"><div class=\"sk-label-container\"><div class=\"sk-label sk-toggleable\"><input class=\"sk-toggleable__control sk-hidden--visually\" id=\"sk-estimator-id-3\" type=\"checkbox\" ><label for=\"sk-estimator-id-3\" class=\"sk-toggleable__label sk-toggleable__label-arrow\">estimator: LinearRegression</label><div class=\"sk-toggleable__content\"><pre>LinearRegression()</pre></div></div></div><div class=\"sk-serial\"><div class=\"sk-item\"><div class=\"sk-estimator sk-toggleable\"><input class=\"sk-toggleable__control sk-hidden--visually\" id=\"sk-estimator-id-4\" type=\"checkbox\" ><label for=\"sk-estimator-id-4\" class=\"sk-toggleable__label sk-toggleable__label-arrow\">LinearRegression</label><div class=\"sk-toggleable__content\"><pre>LinearRegression()</pre></div></div></div></div></div></div></div></div></div></div>"
      ],
      "text/plain": [
       "GridSearchCV(cv=10, estimator=LinearRegression(),\n",
       "             param_grid={'copy_X': [True, False],\n",
       "                         'fit_intercept': [True, False],\n",
       "                         'n_jobs': [0, 1, 2, 4, 8], 'positive': [True, False]})"
      ]
     },
     "execution_count": 30,
     "metadata": {},
     "output_type": "execute_result"
    }
   ],
   "source": [
    "regr_opt.fit(possum_X_train, possum_y_train)"
   ]
  },
  {
   "cell_type": "markdown",
   "id": "478495cc-3656-4df1-ba5f-8d55f49a9d1f",
   "metadata": {},
   "source": [
    "New optimized model is created"
   ]
  },
  {
   "cell_type": "markdown",
   "id": "1fc7b4ff-fa0e-484d-a79d-ddc1091ab539",
   "metadata": {},
   "source": [
    "Model is fit with X and y training data (default parameters used to split into random train and test subsets)."
   ]
  },
  {
   "cell_type": "code",
   "execution_count": 31,
   "id": "578e2a95-4d0b-41b5-b617-4800a27384e2",
   "metadata": {
    "tags": []
   },
   "outputs": [],
   "source": [
    "possum_y_pred = regr_opt.predict(possum_X_test)"
   ]
  },
  {
   "cell_type": "code",
   "execution_count": 32,
   "id": "66af419b-d947-48a4-9aac-5b5a05081065",
   "metadata": {
    "tags": []
   },
   "outputs": [
    {
     "data": {
      "text/plain": [
       "count    26.000000\n",
       "mean      3.346154\n",
       "std       1.671940\n",
       "min       1.000000\n",
       "25%       2.000000\n",
       "50%       3.000000\n",
       "75%       5.000000\n",
       "max       6.000000\n",
       "Name: age, dtype: float64"
      ]
     },
     "execution_count": 32,
     "metadata": {},
     "output_type": "execute_result"
    }
   ],
   "source": [
    "possum_y_test.describe()"
   ]
  },
  {
   "cell_type": "code",
   "execution_count": 33,
   "id": "75c92907-94f9-474f-92d0-891522e746cf",
   "metadata": {
    "tags": []
   },
   "outputs": [
    {
     "data": {
      "text/plain": [
       "2.9722969167763442"
      ]
     },
     "execution_count": 33,
     "metadata": {},
     "output_type": "execute_result"
    }
   ],
   "source": [
    "mean_squared_error(possum_y_test, possum_y_pred)"
   ]
  },
  {
   "cell_type": "markdown",
   "id": "0040854d-0b89-42a7-9ea4-5032ae696056",
   "metadata": {},
   "source": [
    "Our regression loss is less than that of the unoptimized model."
   ]
  },
  {
   "cell_type": "code",
   "execution_count": 34,
   "id": "c1ae9345-de8b-4216-86d2-82132ccbb6cf",
   "metadata": {
    "tags": []
   },
   "outputs": [
    {
     "data": {
      "text/plain": [
       "(-0.19678949797251177, -0.10581877586175503)"
      ]
     },
     "execution_count": 34,
     "metadata": {},
     "output_type": "execute_result"
    }
   ],
   "source": [
    "regr.score(possum_X_test,possum_y_test), regr_opt.score(possum_X_test,possum_y_test)"
   ]
  },
  {
   "cell_type": "markdown",
   "id": "b151df9c-cc70-4611-bec3-ee5c50b37e55",
   "metadata": {},
   "source": [
    "Unoptimized model score, optimized model score"
   ]
  },
  {
   "cell_type": "markdown",
   "id": "cfb069ec-3c98-4a15-8ac2-6348e0e3e8bc",
   "metadata": {
    "tags": []
   },
   "source": [
    "We can see how the optimized model scored slightly higher in this case."
   ]
  },
  {
   "cell_type": "markdown",
   "id": "6ce7aa63-d110-4788-b522-2d0c2afc6f32",
   "metadata": {},
   "source": [
    "Instead of this multivariate linear regression, we could try univariate (1 feature) linear regression to see if a single feature such as foot length is better at predicting a possum's age."
   ]
  },
  {
   "cell_type": "code",
   "execution_count": 35,
   "id": "c08eff2f-be02-454c-9780-7e7aef8d69fb",
   "metadata": {
    "tags": []
   },
   "outputs": [],
   "source": [
    "possum_X = possum_df['foot_length'].values[:,np.newaxis]"
   ]
  },
  {
   "cell_type": "code",
   "execution_count": 36,
   "id": "64931a2a-bfc3-4644-b059-a2312a7e231c",
   "metadata": {
    "tags": []
   },
   "outputs": [],
   "source": [
    "possum_X_train, possum_X_test, possum_y_train, possum_y_test = train_test_split(possum_X, possum_y)"
   ]
  },
  {
   "cell_type": "markdown",
   "id": "be51605b-7f76-48c9-8e79-b91507589a3f",
   "metadata": {},
   "source": [
    "We will fit our optimized model with our new possum_X data"
   ]
  },
  {
   "cell_type": "code",
   "execution_count": 37,
   "id": "ab87c81b-e90f-4043-af79-6e4a5edca2dc",
   "metadata": {
    "tags": []
   },
   "outputs": [
    {
     "data": {
      "text/html": [
       "<style>#sk-container-id-3 {color: black;}#sk-container-id-3 pre{padding: 0;}#sk-container-id-3 div.sk-toggleable {background-color: white;}#sk-container-id-3 label.sk-toggleable__label {cursor: pointer;display: block;width: 100%;margin-bottom: 0;padding: 0.3em;box-sizing: border-box;text-align: center;}#sk-container-id-3 label.sk-toggleable__label-arrow:before {content: \"▸\";float: left;margin-right: 0.25em;color: #696969;}#sk-container-id-3 label.sk-toggleable__label-arrow:hover:before {color: black;}#sk-container-id-3 div.sk-estimator:hover label.sk-toggleable__label-arrow:before {color: black;}#sk-container-id-3 div.sk-toggleable__content {max-height: 0;max-width: 0;overflow: hidden;text-align: left;background-color: #f0f8ff;}#sk-container-id-3 div.sk-toggleable__content pre {margin: 0.2em;color: black;border-radius: 0.25em;background-color: #f0f8ff;}#sk-container-id-3 input.sk-toggleable__control:checked~div.sk-toggleable__content {max-height: 200px;max-width: 100%;overflow: auto;}#sk-container-id-3 input.sk-toggleable__control:checked~label.sk-toggleable__label-arrow:before {content: \"▾\";}#sk-container-id-3 div.sk-estimator input.sk-toggleable__control:checked~label.sk-toggleable__label {background-color: #d4ebff;}#sk-container-id-3 div.sk-label input.sk-toggleable__control:checked~label.sk-toggleable__label {background-color: #d4ebff;}#sk-container-id-3 input.sk-hidden--visually {border: 0;clip: rect(1px 1px 1px 1px);clip: rect(1px, 1px, 1px, 1px);height: 1px;margin: -1px;overflow: hidden;padding: 0;position: absolute;width: 1px;}#sk-container-id-3 div.sk-estimator {font-family: monospace;background-color: #f0f8ff;border: 1px dotted black;border-radius: 0.25em;box-sizing: border-box;margin-bottom: 0.5em;}#sk-container-id-3 div.sk-estimator:hover {background-color: #d4ebff;}#sk-container-id-3 div.sk-parallel-item::after {content: \"\";width: 100%;border-bottom: 1px solid gray;flex-grow: 1;}#sk-container-id-3 div.sk-label:hover label.sk-toggleable__label {background-color: #d4ebff;}#sk-container-id-3 div.sk-serial::before {content: \"\";position: absolute;border-left: 1px solid gray;box-sizing: border-box;top: 0;bottom: 0;left: 50%;z-index: 0;}#sk-container-id-3 div.sk-serial {display: flex;flex-direction: column;align-items: center;background-color: white;padding-right: 0.2em;padding-left: 0.2em;position: relative;}#sk-container-id-3 div.sk-item {position: relative;z-index: 1;}#sk-container-id-3 div.sk-parallel {display: flex;align-items: stretch;justify-content: center;background-color: white;position: relative;}#sk-container-id-3 div.sk-item::before, #sk-container-id-3 div.sk-parallel-item::before {content: \"\";position: absolute;border-left: 1px solid gray;box-sizing: border-box;top: 0;bottom: 0;left: 50%;z-index: -1;}#sk-container-id-3 div.sk-parallel-item {display: flex;flex-direction: column;z-index: 1;position: relative;background-color: white;}#sk-container-id-3 div.sk-parallel-item:first-child::after {align-self: flex-end;width: 50%;}#sk-container-id-3 div.sk-parallel-item:last-child::after {align-self: flex-start;width: 50%;}#sk-container-id-3 div.sk-parallel-item:only-child::after {width: 0;}#sk-container-id-3 div.sk-dashed-wrapped {border: 1px dashed gray;margin: 0 0.4em 0.5em 0.4em;box-sizing: border-box;padding-bottom: 0.4em;background-color: white;}#sk-container-id-3 div.sk-label label {font-family: monospace;font-weight: bold;display: inline-block;line-height: 1.2em;}#sk-container-id-3 div.sk-label-container {text-align: center;}#sk-container-id-3 div.sk-container {/* jupyter's `normalize.less` sets `[hidden] { display: none; }` but bootstrap.min.css set `[hidden] { display: none !important; }` so we also need the `!important` here to be able to override the default hidden behavior on the sphinx rendered scikit-learn.org. See: https://github.com/scikit-learn/scikit-learn/issues/21755 */display: inline-block !important;position: relative;}#sk-container-id-3 div.sk-text-repr-fallback {display: none;}</style><div id=\"sk-container-id-3\" class=\"sk-top-container\"><div class=\"sk-text-repr-fallback\"><pre>GridSearchCV(cv=10, estimator=LinearRegression(),\n",
       "             param_grid={&#x27;copy_X&#x27;: [True, False],\n",
       "                         &#x27;fit_intercept&#x27;: [True, False],\n",
       "                         &#x27;n_jobs&#x27;: [0, 1, 2, 4, 8], &#x27;positive&#x27;: [True, False]})</pre><b>In a Jupyter environment, please rerun this cell to show the HTML representation or trust the notebook. <br />On GitHub, the HTML representation is unable to render, please try loading this page with nbviewer.org.</b></div><div class=\"sk-container\" hidden><div class=\"sk-item sk-dashed-wrapped\"><div class=\"sk-label-container\"><div class=\"sk-label sk-toggleable\"><input class=\"sk-toggleable__control sk-hidden--visually\" id=\"sk-estimator-id-5\" type=\"checkbox\" ><label for=\"sk-estimator-id-5\" class=\"sk-toggleable__label sk-toggleable__label-arrow\">GridSearchCV</label><div class=\"sk-toggleable__content\"><pre>GridSearchCV(cv=10, estimator=LinearRegression(),\n",
       "             param_grid={&#x27;copy_X&#x27;: [True, False],\n",
       "                         &#x27;fit_intercept&#x27;: [True, False],\n",
       "                         &#x27;n_jobs&#x27;: [0, 1, 2, 4, 8], &#x27;positive&#x27;: [True, False]})</pre></div></div></div><div class=\"sk-parallel\"><div class=\"sk-parallel-item\"><div class=\"sk-item\"><div class=\"sk-label-container\"><div class=\"sk-label sk-toggleable\"><input class=\"sk-toggleable__control sk-hidden--visually\" id=\"sk-estimator-id-6\" type=\"checkbox\" ><label for=\"sk-estimator-id-6\" class=\"sk-toggleable__label sk-toggleable__label-arrow\">estimator: LinearRegression</label><div class=\"sk-toggleable__content\"><pre>LinearRegression()</pre></div></div></div><div class=\"sk-serial\"><div class=\"sk-item\"><div class=\"sk-estimator sk-toggleable\"><input class=\"sk-toggleable__control sk-hidden--visually\" id=\"sk-estimator-id-7\" type=\"checkbox\" ><label for=\"sk-estimator-id-7\" class=\"sk-toggleable__label sk-toggleable__label-arrow\">LinearRegression</label><div class=\"sk-toggleable__content\"><pre>LinearRegression()</pre></div></div></div></div></div></div></div></div></div></div>"
      ],
      "text/plain": [
       "GridSearchCV(cv=10, estimator=LinearRegression(),\n",
       "             param_grid={'copy_X': [True, False],\n",
       "                         'fit_intercept': [True, False],\n",
       "                         'n_jobs': [0, 1, 2, 4, 8], 'positive': [True, False]})"
      ]
     },
     "execution_count": 37,
     "metadata": {},
     "output_type": "execute_result"
    }
   ],
   "source": [
    "regr_opt.fit(possum_X_train, possum_y_train)"
   ]
  },
  {
   "cell_type": "code",
   "execution_count": 38,
   "id": "4580a196-b004-4b00-ae20-2d196ac9b996",
   "metadata": {
    "tags": []
   },
   "outputs": [],
   "source": [
    "possum_y_pred = regr_opt.predict(possum_X_test)"
   ]
  },
  {
   "cell_type": "code",
   "execution_count": 39,
   "id": "843531db-e62d-447b-a991-39406f124059",
   "metadata": {
    "tags": []
   },
   "outputs": [
    {
     "data": {
      "text/plain": [
       "2.7984349274690667"
      ]
     },
     "execution_count": 39,
     "metadata": {},
     "output_type": "execute_result"
    }
   ],
   "source": [
    "mean_squared_error(possum_y_test, possum_y_pred)"
   ]
  },
  {
   "cell_type": "code",
   "execution_count": 40,
   "id": "7b8c5466-2b0f-45d0-98aa-91f2324c0975",
   "metadata": {
    "tags": []
   },
   "outputs": [
    {
     "data": {
      "text/plain": [
       "-0.3828523471996266"
      ]
     },
     "execution_count": 40,
     "metadata": {},
     "output_type": "execute_result"
    }
   ],
   "source": [
    "regr_opt.score(possum_X_test,possum_y_test)"
   ]
  },
  {
   "cell_type": "code",
   "execution_count": 41,
   "id": "7a1c5b7b-a35a-4263-96c3-49cc0eb1067f",
   "metadata": {
    "tags": []
   },
   "outputs": [
    {
     "data": {
      "image/png": "[encoded data removed]",
      "text/plain": [
       "<Figure size 640x480 with 1 Axes>"
      ]
     },
     "metadata": {},
     "output_type": "display_data"
    }
   ],
   "source": [
    "# plot line prediction\n",
    "plt.plot(possum_X_test, possum_y_pred, color='blue', linewidth=3);\n",
    "\n",
    "# draw vertical lines from each data point to its predict value\n",
    "[plt.plot([x,x],[yp,yt], color='red', linewidth=3, markevery=[0], marker ='^')\n",
    "                 for x, yp, yt in zip(possum_X_test, possum_y_pred, possum_y_test)];\n",
    "\n",
    "# plot these last so they are visually on top\n",
    "plt.scatter(possum_X_test, possum_y_test,  color='black');"
   ]
  },
  {
   "cell_type": "markdown",
   "id": "1c12ccce-8785-49c0-bf52-4d7be3680ab0",
   "metadata": {},
   "source": [
    "Our line produced by our linear regression model is visualized and used to predict possum age in this case."
   ]
  },
  {
   "cell_type": "markdown",
   "id": "9934b09d-1368-4416-b946-f6a397611dd3",
   "metadata": {
    "tags": []
   },
   "source": [
    "Univariate linear regression seemed to produce slightly worse results, meaning foot length is not a great sole indicator of possum age. "
   ]
  },
  {
   "cell_type": "markdown",
   "id": "9f57f60b-54b2-49a8-9871-ac19cceab3d1",
   "metadata": {},
   "source": [
    "We can try getting even better results by experimenting with multivariate regression, unviariate regression, and other optimized linear regression models."
   ]
  },
  {
   "cell_type": "markdown",
   "id": "5546535d-3efe-4d50-82c2-7b6b7f0e6aa8",
   "metadata": {
    "tags": []
   },
   "source": [
    "# DecisionTreeRegressor"
   ]
  },
  {
   "cell_type": "code",
   "execution_count": 56,
   "id": "dfb234a0-5d51-4cae-90a7-cb50e3edaa18",
   "metadata": {
    "tags": []
   },
   "outputs": [],
   "source": [
    "dt = DecisionTreeRegressor()"
   ]
  },
  {
   "cell_type": "code",
   "execution_count": 57,
   "id": "508a6861-2da6-4658-99c6-423df65e721e",
   "metadata": {
    "tags": []
   },
   "outputs": [],
   "source": [
    "param_grid = {\n",
    "    'max_depth': [2,3,4,5,6],\n",
    "    'min_samples_split': [2, 5, 10],\n",
    "    'min_samples_leaf': list(range(2,20,2)),\n",
    "    'min_weight_fraction_leaf': [0, 0.2, 0.4]\n",
    "}"
   ]
  },
  {
   "cell_type": "code",
   "execution_count": 58,
   "id": "c34121cc-388b-42ac-a98d-e3c6c5b70f28",
   "metadata": {
    "tags": []
   },
   "outputs": [],
   "source": [
    "dt_opt = model_selection.GridSearchCV(dt,param_grid,cv=10)"
   ]
  },
  {
   "cell_type": "code",
   "execution_count": 59,
   "id": "cc2e9e57-6234-4994-953f-a57ba4fe128a",
   "metadata": {
    "tags": []
   },
   "outputs": [],
   "source": [
    "dt_opt.fit(possum_X_train, possum_y_train)\n",
    "\n",
    "dt_df = pd.DataFrame(dt_opt.cv_results_)"
   ]
  },
  {
   "cell_type": "code",
   "execution_count": 60,
   "id": "f101cd43-44e5-4298-b6e1-8f4be75ecec6",
   "metadata": {
    "tags": []
   },
   "outputs": [
    {
     "data": {
      "text/html": [
       "<div>\n",
       "<style scoped>\n",
       "    .dataframe tbody tr th:only-of-type {\n",
       "        vertical-align: middle;\n",
       "    }\n",
       "\n",
       "    .dataframe tbody tr th {\n",
       "        vertical-align: top;\n",
       "    }\n",
       "\n",
       "    .dataframe thead th {\n",
       "        text-align: right;\n",
       "    }\n",
       "</style>\n",
       "<table border=\"1\" class=\"dataframe\">\n",
       "  <thead>\n",
       "    <tr style=\"text-align: right;\">\n",
       "      <th></th>\n",
       "      <th>mean_fit_time</th>\n",
       "      <th>std_fit_time</th>\n",
       "      <th>mean_score_time</th>\n",
       "      <th>std_score_time</th>\n",
       "      <th>param_max_depth</th>\n",
       "      <th>param_min_samples_leaf</th>\n",
       "      <th>param_min_samples_split</th>\n",
       "      <th>param_min_weight_fraction_leaf</th>\n",
       "      <th>params</th>\n",
       "      <th>split0_test_score</th>\n",
       "      <th>...</th>\n",
       "      <th>split3_test_score</th>\n",
       "      <th>split4_test_score</th>\n",
       "      <th>split5_test_score</th>\n",
       "      <th>split6_test_score</th>\n",
       "      <th>split7_test_score</th>\n",
       "      <th>split8_test_score</th>\n",
       "      <th>split9_test_score</th>\n",
       "      <th>mean_test_score</th>\n",
       "      <th>std_test_score</th>\n",
       "      <th>rank_test_score</th>\n",
       "    </tr>\n",
       "  </thead>\n",
       "  <tbody>\n",
       "    <tr>\n",
       "      <th>0</th>\n",
       "      <td>0.001198</td>\n",
       "      <td>0.000402</td>\n",
       "      <td>0.0007</td>\n",
       "      <td>0.000398</td>\n",
       "      <td>2</td>\n",
       "      <td>2</td>\n",
       "      <td>2</td>\n",
       "      <td>0</td>\n",
       "      <td>{'max_depth': 2, 'min_samples_leaf': 2, 'min_s...</td>\n",
       "      <td>-0.167149</td>\n",
       "      <td>...</td>\n",
       "      <td>-0.04812</td>\n",
       "      <td>-0.031905</td>\n",
       "      <td>-0.591624</td>\n",
       "      <td>-0.031399</td>\n",
       "      <td>-0.004653</td>\n",
       "      <td>-0.398072</td>\n",
       "      <td>-0.606867</td>\n",
       "      <td>-0.446752</td>\n",
       "      <td>0.745158</td>\n",
       "      <td>365</td>\n",
       "    </tr>\n",
       "  </tbody>\n",
       "</table>\n",
       "<p>1 rows × 22 columns</p>\n",
       "</div>"
      ],
      "text/plain": [
       "   mean_fit_time  std_fit_time  mean_score_time  std_score_time  \\\n",
       "0       0.001198      0.000402           0.0007        0.000398   \n",
       "\n",
       "  param_max_depth param_min_samples_leaf param_min_samples_split  \\\n",
       "0               2                      2                       2   \n",
       "\n",
       "  param_min_weight_fraction_leaf  \\\n",
       "0                              0   \n",
       "\n",
       "                                              params  split0_test_score  ...  \\\n",
       "0  {'max_depth': 2, 'min_samples_leaf': 2, 'min_s...          -0.167149  ...   \n",
       "\n",
       "   split3_test_score  split4_test_score  split5_test_score  split6_test_score  \\\n",
       "0           -0.04812          -0.031905          -0.591624          -0.031399   \n",
       "\n",
       "   split7_test_score  split8_test_score  split9_test_score  mean_test_score  \\\n",
       "0          -0.004653          -0.398072          -0.606867        -0.446752   \n",
       "\n",
       "   std_test_score  rank_test_score  \n",
       "0        0.745158              365  \n",
       "\n",
       "[1 rows x 22 columns]"
      ]
     },
     "execution_count": 60,
     "metadata": {},
     "output_type": "execute_result"
    }
   ],
   "source": [
    "dt_df.head(1)"
   ]
  },
  {
   "cell_type": "markdown",
   "id": "b776c468-cb5d-4429-8f61-615f8087024b",
   "metadata": {},
   "source": [
    "# Support Vector Regression(SVR)"
   ]
  },
  {
   "cell_type": "code",
   "execution_count": 61,
   "id": "2fe9ef12-0add-4c4c-850a-9f2f1e1b4251",
   "metadata": {
    "tags": []
   },
   "outputs": [],
   "source": [
    "svr_clf = svm.SVR()\n",
    "param_grid = {'kernel':['linear','rbf'], 'C':[.5, .75,1,2,5,7, 10]}\n",
    "svr_opt = model_selection.GridSearchCV(svr_clf,param_grid,cv=10)\n",
    "\n",
    "# optmize the svm put the CV results in a dataframe\n",
    "svr_opt.fit(possum_X_train, possum_y_train)\n",
    "sv_df = pd.DataFrame(svr_opt.cv_results_)"
   ]
  },
  {
   "cell_type": "code",
   "execution_count": 62,
   "id": "16aa79c6-4475-4bbe-ad09-d167c2c855ad",
   "metadata": {
    "tags": []
   },
   "outputs": [
    {
     "data": {
      "text/html": [
       "<div>\n",
       "<style scoped>\n",
       "    .dataframe tbody tr th:only-of-type {\n",
       "        vertical-align: middle;\n",
       "    }\n",
       "\n",
       "    .dataframe tbody tr th {\n",
       "        vertical-align: top;\n",
       "    }\n",
       "\n",
       "    .dataframe thead th {\n",
       "        text-align: right;\n",
       "    }\n",
       "</style>\n",
       "<table border=\"1\" class=\"dataframe\">\n",
       "  <thead>\n",
       "    <tr style=\"text-align: right;\">\n",
       "      <th></th>\n",
       "      <th>mean_fit_time</th>\n",
       "      <th>std_fit_time</th>\n",
       "      <th>mean_score_time</th>\n",
       "      <th>std_score_time</th>\n",
       "      <th>param_C</th>\n",
       "      <th>param_kernel</th>\n",
       "      <th>params</th>\n",
       "      <th>split0_test_score</th>\n",
       "      <th>split1_test_score</th>\n",
       "      <th>split2_test_score</th>\n",
       "      <th>split3_test_score</th>\n",
       "      <th>split4_test_score</th>\n",
       "      <th>split5_test_score</th>\n",
       "      <th>split6_test_score</th>\n",
       "      <th>split7_test_score</th>\n",
       "      <th>split8_test_score</th>\n",
       "      <th>split9_test_score</th>\n",
       "      <th>mean_test_score</th>\n",
       "      <th>std_test_score</th>\n",
       "      <th>rank_test_score</th>\n",
       "    </tr>\n",
       "  </thead>\n",
       "  <tbody>\n",
       "    <tr>\n",
       "      <th>0</th>\n",
       "      <td>0.001841</td>\n",
       "      <td>0.000442</td>\n",
       "      <td>0.000654</td>\n",
       "      <td>0.000453</td>\n",
       "      <td>0.5</td>\n",
       "      <td>linear</td>\n",
       "      <td>{'C': 0.5, 'kernel': 'linear'}</td>\n",
       "      <td>-0.398831</td>\n",
       "      <td>-0.98171</td>\n",
       "      <td>-0.063906</td>\n",
       "      <td>-0.187387</td>\n",
       "      <td>-0.055209</td>\n",
       "      <td>-0.40789</td>\n",
       "      <td>-0.190694</td>\n",
       "      <td>-0.038811</td>\n",
       "      <td>-0.201651</td>\n",
       "      <td>-0.140253</td>\n",
       "      <td>-0.266634</td>\n",
       "      <td>0.268087</td>\n",
       "      <td>7</td>\n",
       "    </tr>\n",
       "  </tbody>\n",
       "</table>\n",
       "</div>"
      ],
      "text/plain": [
       "   mean_fit_time  std_fit_time  mean_score_time  std_score_time param_C  \\\n",
       "0       0.001841      0.000442         0.000654        0.000453     0.5   \n",
       "\n",
       "  param_kernel                          params  split0_test_score  \\\n",
       "0       linear  {'C': 0.5, 'kernel': 'linear'}          -0.398831   \n",
       "\n",
       "   split1_test_score  split2_test_score  split3_test_score  split4_test_score  \\\n",
       "0           -0.98171          -0.063906          -0.187387          -0.055209   \n",
       "\n",
       "   split5_test_score  split6_test_score  split7_test_score  split8_test_score  \\\n",
       "0           -0.40789          -0.190694          -0.038811          -0.201651   \n",
       "\n",
       "   split9_test_score  mean_test_score  std_test_score  rank_test_score  \n",
       "0          -0.140253        -0.266634        0.268087                7  "
      ]
     },
     "execution_count": 62,
     "metadata": {},
     "output_type": "execute_result"
    }
   ],
   "source": [
    "sv_df.head(1)"
   ]
  },
  {
   "cell_type": "markdown",
   "id": "c3e51974-cdbd-4f3e-90b0-ae72023e0eb7",
   "metadata": {},
   "source": [
    "## Comparison"
   ]
  },
  {
   "cell_type": "markdown",
   "id": "f3085fcd-6680-41b7-97b5-eb873677baa6",
   "metadata": {},
   "source": [
    "Now we'll compare the DecisionTreeRegressor with Support Vector Regression(SVR)"
   ]
  },
  {
   "cell_type": "code",
   "execution_count": 73,
   "id": "ee7eaffa-d3aa-4fdd-85ab-b93200370095",
   "metadata": {
    "tags": []
   },
   "outputs": [
    {
     "data": {
      "text/plain": [
       "count    405.000000\n",
       "mean      -0.302006\n",
       "std        0.142688\n",
       "min       -0.915974\n",
       "25%       -0.353050\n",
       "50%       -0.308896\n",
       "75%       -0.153591\n",
       "max       -0.153591\n",
       "Name: mean_test_score, dtype: float64"
      ]
     },
     "execution_count": 73,
     "metadata": {},
     "output_type": "execute_result"
    }
   ],
   "source": [
    "dt_df['mean_test_score'].describe()"
   ]
  },
  {
   "cell_type": "code",
   "execution_count": 74,
   "id": "af8ae5a8-a636-4141-9000-c67a64dc8900",
   "metadata": {
    "tags": []
   },
   "outputs": [
    {
     "data": {
      "text/plain": [
       "count    14.000000\n",
       "mean     -0.317978\n",
       "std       0.067275\n",
       "min      -0.457382\n",
       "25%      -0.343689\n",
       "50%      -0.287848\n",
       "75%      -0.266384\n",
       "max      -0.264756\n",
       "Name: mean_test_score, dtype: float64"
      ]
     },
     "execution_count": 74,
     "metadata": {},
     "output_type": "execute_result"
    }
   ],
   "source": [
    "sv_df['mean_test_score'].describe()"
   ]
  },
  {
   "cell_type": "code",
   "execution_count": 75,
   "id": "a46c5b1e-bb06-4fd4-8620-88c5cb304573",
   "metadata": {
    "tags": []
   },
   "outputs": [
    {
     "data": {
      "text/plain": [
       "(-0.4693029919440539, -0.15431216369436007)"
      ]
     },
     "execution_count": 75,
     "metadata": {},
     "output_type": "execute_result"
    }
   ],
   "source": [
    "dt_opt.score(possum_X_test,possum_y_test), svr_opt.score(possum_X_test,possum_y_test)"
   ]
  },
  {
   "cell_type": "markdown",
   "id": "c0baf9b2-1fcb-49f7-886a-c7b2b857dadc",
   "metadata": {
    "tags": []
   },
   "source": [
    "In this case, the DecisionTreeRegressor model produced a worse score than the SVR."
   ]
  },
  {
   "cell_type": "markdown",
   "id": "ed5e5af2-e1a7-4925-8a53-2529e62f0349",
   "metadata": {
    "tags": []
   },
   "source": [
    "We can further compare the two models to evaluate potential tradeoffs"
   ]
  },
  {
   "cell_type": "code",
   "execution_count": 76,
   "id": "41d45fe1-1f95-4d98-a81f-f6e0a0d8532c",
   "metadata": {
    "tags": []
   },
   "outputs": [
    {
     "data": {
      "text/plain": [
       "count    405.000000\n",
       "mean       0.000960\n",
       "std        0.000223\n",
       "min        0.000100\n",
       "25%        0.000805\n",
       "50%        0.000958\n",
       "75%        0.001087\n",
       "max        0.002003\n",
       "Name: mean_fit_time, dtype: float64"
      ]
     },
     "execution_count": 76,
     "metadata": {},
     "output_type": "execute_result"
    }
   ],
   "source": [
    "dt_df['mean_fit_time'].describe()"
   ]
  },
  {
   "cell_type": "code",
   "execution_count": 77,
   "id": "bb0356e1-1c21-4a47-9f73-682c2e19e298",
   "metadata": {
    "tags": []
   },
   "outputs": [
    {
     "data": {
      "text/plain": [
       "count    14.000000\n",
       "mean      0.001844\n",
       "std       0.000497\n",
       "min       0.001348\n",
       "25%       0.001530\n",
       "50%       0.001763\n",
       "75%       0.002093\n",
       "max       0.003133\n",
       "Name: mean_fit_time, dtype: float64"
      ]
     },
     "execution_count": 77,
     "metadata": {},
     "output_type": "execute_result"
    }
   ],
   "source": [
    "sv_df['mean_fit_time'].describe()"
   ]
  },
  {
   "cell_type": "code",
   "execution_count": 78,
   "id": "9eacdab8-135e-47b8-ba29-be231419f18f",
   "metadata": {
    "tags": []
   },
   "outputs": [
    {
     "data": {
      "text/plain": [
       "count    405.000000\n",
       "mean       0.000905\n",
       "std        0.000198\n",
       "min        0.000353\n",
       "25%        0.000796\n",
       "50%        0.000902\n",
       "75%        0.001025\n",
       "max        0.001557\n",
       "Name: mean_score_time, dtype: float64"
      ]
     },
     "execution_count": 78,
     "metadata": {},
     "output_type": "execute_result"
    }
   ],
   "source": [
    "dt_df['mean_score_time'].describe()"
   ]
  },
  {
   "cell_type": "code",
   "execution_count": 79,
   "id": "062371d8-d814-4759-b16e-f4cd2658590b",
   "metadata": {
    "tags": []
   },
   "outputs": [
    {
     "data": {
      "text/plain": [
       "count    14.000000\n",
       "mean      0.000886\n",
       "std       0.000267\n",
       "min       0.000341\n",
       "25%       0.000728\n",
       "50%       0.000954\n",
       "75%       0.001051\n",
       "max       0.001297\n",
       "Name: mean_score_time, dtype: float64"
      ]
     },
     "execution_count": 79,
     "metadata": {},
     "output_type": "execute_result"
    }
   ],
   "source": [
    "sv_df['mean_score_time'].describe()"
   ]
  },
  {
   "cell_type": "markdown",
   "id": "bcd309f2-6ceb-4b01-b4fc-c6759d226cb3",
   "metadata": {
    "tags": []
   },
   "source": [
    "In this case, the DecisionTreeRegressor is faster to fit but slightly slower to score."
   ]
  },
  {
   "cell_type": "markdown",
   "id": "10ac1be0-3020-498f-9e7d-b044b541f0d8",
   "metadata": {},
   "source": [
    "Based on the fit time results, we can see just how much more computationally expensive support vector regression is than decision tree regression. When larger datasets are used for training, the computational expense will grow exponentially."
   ]
  },
  {
   "cell_type": "markdown",
   "id": "9657614a-fa0c-46bb-adc8-da553b4f990c",
   "metadata": {},
   "source": [
    "Fit and score times should definitely be considered when choosing models for tasks that are especially demanding."
   ]
  },
  {
   "cell_type": "markdown",
   "id": "8720208d-a838-4452-8b1b-411e6444e1e6",
   "metadata": {},
   "source": [
    "Context is key."
   ]
  },
  {
   "cell_type": "markdown",
   "id": "5c204e5c-2144-48e6-b821-a6d391196b8b",
   "metadata": {},
   "source": [
    "The type of relationship between the feature (foot length) and the target variable (age) may vary from model to model."
   ]
  },
  {
   "cell_type": "markdown",
   "id": "7724d3fd-9e66-4b9f-89e0-ce7c9ecc4754",
   "metadata": {},
   "source": [
    "Based on these results, for similar real world tasks, I would recommend the SVR because it was better at predicting the possum's age. If the task was much more demanding however, I may recommend the DecisionTreeRegressor model as it is less computationally expensive and more interpretable."
   ]
  }
 ],
 "metadata": {
  "kernelspec": {
   "display_name": "Python 3 (ipykernel)",
   "language": "python",
   "name": "python3"
  },
  "language_info": {
   "codemirror_mode": {
    "name": "ipython",
    "version": 3
   },
   "file_extension": ".py",
   "mimetype": "text/x-python",
   "name": "python",
   "nbconvert_exporter": "python",
   "pygments_lexer": "ipython3",
   "version": "3.11.4"
  }
 },
 "nbformat": 4,
 "nbformat_minor": 5
}
