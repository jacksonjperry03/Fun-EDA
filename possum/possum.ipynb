{
 "cells": [
  {
   "cell_type": "code",
   "execution_count": 17,
   "id": "a53e3793-920c-4b2d-b22a-4b35f39e5bb9",
   "metadata": {
    "tags": []
   },
   "outputs": [],
   "source": [
    "import pandas as pd\n",
    "from sklearn.model_selection import train_test_split\n",
    "from sklearn.model_selection import GridSearchCV\n",
    "from sklearn.svm import SVR\n",
    "from sklearn import svm\n",
    "from sklearn import tree\n",
    "from sklearn.tree import DecisionTreeRegressor\n",
    "from sklearn import datasets, linear_model, model_selection\n",
    "from sklearn.metrics import mean_squared_error, r2_score\n",
    "import matplotlib.pyplot as plt\n",
    "import numpy as np\n",
    "import seaborn as sns\n",
    "sns.set_theme(font_scale=2,palette='colorblind')"
   ]
  },
  {
   "cell_type": "code",
   "execution_count": 18,
   "id": "6c68b8bf-70d5-4f15-925e-6f511416ecfb",
   "metadata": {
    "tags": []
   },
   "outputs": [],
   "source": [
    "possum_df = pd.read_csv('possum.csv')"
   ]
  },
  {
   "cell_type": "code",
   "execution_count": 19,
   "id": "5e34b547-ac5b-49eb-8f03-582734b9abed",
   "metadata": {
    "tags": []
   },
   "outputs": [
    {
     "data": {
      "text/html": [
       "<div>\n",
       "<style scoped>\n",
       "    .dataframe tbody tr th:only-of-type {\n",
       "        vertical-align: middle;\n",
       "    }\n",
       "\n",
       "    .dataframe tbody tr th {\n",
       "        vertical-align: top;\n",
       "    }\n",
       "\n",
       "    .dataframe thead th {\n",
       "        text-align: right;\n",
       "    }\n",
       "</style>\n",
       "<table border=\"1\" class=\"dataframe\">\n",
       "  <thead>\n",
       "    <tr style=\"text-align: right;\">\n",
       "      <th></th>\n",
       "      <th>case</th>\n",
       "      <th>site</th>\n",
       "      <th>Pop</th>\n",
       "      <th>sex</th>\n",
       "      <th>age</th>\n",
       "      <th>hdlngth</th>\n",
       "      <th>skullw</th>\n",
       "      <th>totlngth</th>\n",
       "      <th>taill</th>\n",
       "      <th>footlgth</th>\n",
       "      <th>earconch</th>\n",
       "      <th>eye</th>\n",
       "      <th>chest</th>\n",
       "      <th>belly</th>\n",
       "    </tr>\n",
       "  </thead>\n",
       "  <tbody>\n",
       "    <tr>\n",
       "      <th>0</th>\n",
       "      <td>1</td>\n",
       "      <td>1</td>\n",
       "      <td>Vic</td>\n",
       "      <td>m</td>\n",
       "      <td>8.0</td>\n",
       "      <td>94.1</td>\n",
       "      <td>60.4</td>\n",
       "      <td>89.0</td>\n",
       "      <td>36.0</td>\n",
       "      <td>74.5</td>\n",
       "      <td>54.5</td>\n",
       "      <td>15.2</td>\n",
       "      <td>28.0</td>\n",
       "      <td>36.0</td>\n",
       "    </tr>\n",
       "    <tr>\n",
       "      <th>1</th>\n",
       "      <td>2</td>\n",
       "      <td>1</td>\n",
       "      <td>Vic</td>\n",
       "      <td>f</td>\n",
       "      <td>6.0</td>\n",
       "      <td>92.5</td>\n",
       "      <td>57.6</td>\n",
       "      <td>91.5</td>\n",
       "      <td>36.5</td>\n",
       "      <td>72.5</td>\n",
       "      <td>51.2</td>\n",
       "      <td>16.0</td>\n",
       "      <td>28.5</td>\n",
       "      <td>33.0</td>\n",
       "    </tr>\n",
       "  </tbody>\n",
       "</table>\n",
       "</div>"
      ],
      "text/plain": [
       "   case  site  Pop sex  age  hdlngth  skullw  totlngth  taill  footlgth  \\\n",
       "0     1     1  Vic   m  8.0     94.1    60.4      89.0   36.0      74.5   \n",
       "1     2     1  Vic   f  6.0     92.5    57.6      91.5   36.5      72.5   \n",
       "\n",
       "   earconch   eye  chest  belly  \n",
       "0      54.5  15.2   28.0   36.0  \n",
       "1      51.2  16.0   28.5   33.0  "
      ]
     },
     "execution_count": 19,
     "metadata": {},
     "output_type": "execute_result"
    }
   ],
   "source": [
    "possum_df.head(2)"
   ]
  },
  {
   "cell_type": "code",
   "execution_count": 20,
   "id": "7b5293ff-580d-462f-8954-077e637be5e6",
   "metadata": {
    "tags": []
   },
   "outputs": [],
   "source": [
    "possum_df = possum_df.dropna()"
   ]
  },
  {
   "cell_type": "markdown",
   "id": "4c90d05d-87e1-469b-9673-3f62c3d720e0",
   "metadata": {},
   "source": [
    "Dropped any rows with missing values"
   ]
  },
  {
   "cell_type": "code",
   "execution_count": 21,
   "id": "adca3065-87b6-4e48-8bbb-6975d7f5878c",
   "metadata": {
    "tags": []
   },
   "outputs": [],
   "source": [
    "target_var = 'age'\n",
    "categorical_vars = ['Pop', 'sex']"
   ]
  },
  {
   "cell_type": "markdown",
   "id": "b38aed77-7f75-4161-9036-c5372aaf1d66",
   "metadata": {},
   "source": [
    "This categorical data is not appropriate for linear regression. The target variable / variable to predict and the features should be continuous / numerical."
   ]
  },
  {
   "cell_type": "code",
   "execution_count": 22,
   "id": "0cab4a38-ff14-4c91-9485-9bb197d9d626",
   "metadata": {
    "tags": []
   },
   "outputs": [],
   "source": [
    "possum_X = possum_df.drop(categorical_vars, axis=1)\n",
    "possum_X = possum_X.drop(target_var, axis=1)"
   ]
  },
  {
   "cell_type": "markdown",
   "id": "625caf61-0211-4680-8d5a-35d058dac67d",
   "metadata": {},
   "source": [
    "Independent continuous variables ↑"
   ]
  },
  {
   "cell_type": "markdown",
   "id": "c29eae0c-f829-440d-b7bf-12b7840b0544",
   "metadata": {},
   "source": [
    "Dependent variable ↓"
   ]
  },
  {
   "cell_type": "code",
   "execution_count": 23,
   "id": "f5adcf1e-9a38-48af-87e2-d623e732997b",
   "metadata": {
    "tags": []
   },
   "outputs": [],
   "source": [
    "possum_y = possum_df[target_var]"
   ]
  },
  {
   "cell_type": "code",
   "execution_count": 24,
   "id": "edaec4da-3f6e-4815-8e7f-47083421e12c",
   "metadata": {
    "tags": []
   },
   "outputs": [
    {
     "data": {
      "text/plain": [
       "((101,), (101, 11))"
      ]
     },
     "execution_count": 24,
     "metadata": {},
     "output_type": "execute_result"
    }
   ],
   "source": [
    "possum_y.shape, possum_X.shape"
   ]
  },
  {
   "cell_type": "code",
   "execution_count": 25,
   "id": "d6f2a288-b37e-4db3-889d-22aec95951c8",
   "metadata": {
    "tags": []
   },
   "outputs": [],
   "source": [
    "possum_X_train, possum_X_test, possum_y_train, possum_y_test = train_test_split(possum_X, possum_y)"
   ]
  },
  {
   "cell_type": "markdown",
   "id": "2e6c6082-9191-41a8-80f5-4b80c62c8768",
   "metadata": {},
   "source": [
    "We will use regression to predict the ages of the possum based on their features. Regression is used in the real world to predict weather, prices, and more."
   ]
  },
  {
   "cell_type": "code",
   "execution_count": 26,
   "id": "d5b3fb5a-e24b-4f3b-b882-52a645e55552",
   "metadata": {
    "tags": []
   },
   "outputs": [],
   "source": [
    "regr = linear_model.LinearRegression()"
   ]
  },
  {
   "cell_type": "markdown",
   "id": "1fc7b4ff-fa0e-484d-a79d-ddc1091ab539",
   "metadata": {},
   "source": [
    "Model is fit with X and y training data (default parameters used to split into random train and test subsets."
   ]
  },
  {
   "cell_type": "code",
   "execution_count": 27,
   "id": "025a39a8-2070-42a0-bfe5-f9ca9b4d0f9f",
   "metadata": {
    "tags": []
   },
   "outputs": [
    {
     "data": {
      "text/html": [
       "<style>#sk-container-id-2 {color: black;}#sk-container-id-2 pre{padding: 0;}#sk-container-id-2 div.sk-toggleable {background-color: white;}#sk-container-id-2 label.sk-toggleable__label {cursor: pointer;display: block;width: 100%;margin-bottom: 0;padding: 0.3em;box-sizing: border-box;text-align: center;}#sk-container-id-2 label.sk-toggleable__label-arrow:before {content: \"▸\";float: left;margin-right: 0.25em;color: #696969;}#sk-container-id-2 label.sk-toggleable__label-arrow:hover:before {color: black;}#sk-container-id-2 div.sk-estimator:hover label.sk-toggleable__label-arrow:before {color: black;}#sk-container-id-2 div.sk-toggleable__content {max-height: 0;max-width: 0;overflow: hidden;text-align: left;background-color: #f0f8ff;}#sk-container-id-2 div.sk-toggleable__content pre {margin: 0.2em;color: black;border-radius: 0.25em;background-color: #f0f8ff;}#sk-container-id-2 input.sk-toggleable__control:checked~div.sk-toggleable__content {max-height: 200px;max-width: 100%;overflow: auto;}#sk-container-id-2 input.sk-toggleable__control:checked~label.sk-toggleable__label-arrow:before {content: \"▾\";}#sk-container-id-2 div.sk-estimator input.sk-toggleable__control:checked~label.sk-toggleable__label {background-color: #d4ebff;}#sk-container-id-2 div.sk-label input.sk-toggleable__control:checked~label.sk-toggleable__label {background-color: #d4ebff;}#sk-container-id-2 input.sk-hidden--visually {border: 0;clip: rect(1px 1px 1px 1px);clip: rect(1px, 1px, 1px, 1px);height: 1px;margin: -1px;overflow: hidden;padding: 0;position: absolute;width: 1px;}#sk-container-id-2 div.sk-estimator {font-family: monospace;background-color: #f0f8ff;border: 1px dotted black;border-radius: 0.25em;box-sizing: border-box;margin-bottom: 0.5em;}#sk-container-id-2 div.sk-estimator:hover {background-color: #d4ebff;}#sk-container-id-2 div.sk-parallel-item::after {content: \"\";width: 100%;border-bottom: 1px solid gray;flex-grow: 1;}#sk-container-id-2 div.sk-label:hover label.sk-toggleable__label {background-color: #d4ebff;}#sk-container-id-2 div.sk-serial::before {content: \"\";position: absolute;border-left: 1px solid gray;box-sizing: border-box;top: 0;bottom: 0;left: 50%;z-index: 0;}#sk-container-id-2 div.sk-serial {display: flex;flex-direction: column;align-items: center;background-color: white;padding-right: 0.2em;padding-left: 0.2em;position: relative;}#sk-container-id-2 div.sk-item {position: relative;z-index: 1;}#sk-container-id-2 div.sk-parallel {display: flex;align-items: stretch;justify-content: center;background-color: white;position: relative;}#sk-container-id-2 div.sk-item::before, #sk-container-id-2 div.sk-parallel-item::before {content: \"\";position: absolute;border-left: 1px solid gray;box-sizing: border-box;top: 0;bottom: 0;left: 50%;z-index: -1;}#sk-container-id-2 div.sk-parallel-item {display: flex;flex-direction: column;z-index: 1;position: relative;background-color: white;}#sk-container-id-2 div.sk-parallel-item:first-child::after {align-self: flex-end;width: 50%;}#sk-container-id-2 div.sk-parallel-item:last-child::after {align-self: flex-start;width: 50%;}#sk-container-id-2 div.sk-parallel-item:only-child::after {width: 0;}#sk-container-id-2 div.sk-dashed-wrapped {border: 1px dashed gray;margin: 0 0.4em 0.5em 0.4em;box-sizing: border-box;padding-bottom: 0.4em;background-color: white;}#sk-container-id-2 div.sk-label label {font-family: monospace;font-weight: bold;display: inline-block;line-height: 1.2em;}#sk-container-id-2 div.sk-label-container {text-align: center;}#sk-container-id-2 div.sk-container {/* jupyter's `normalize.less` sets `[hidden] { display: none; }` but bootstrap.min.css set `[hidden] { display: none !important; }` so we also need the `!important` here to be able to override the default hidden behavior on the sphinx rendered scikit-learn.org. See: https://github.com/scikit-learn/scikit-learn/issues/21755 */display: inline-block !important;position: relative;}#sk-container-id-2 div.sk-text-repr-fallback {display: none;}</style><div id=\"sk-container-id-2\" class=\"sk-top-container\"><div class=\"sk-text-repr-fallback\"><pre>LinearRegression()</pre><b>In a Jupyter environment, please rerun this cell to show the HTML representation or trust the notebook. <br />On GitHub, the HTML representation is unable to render, please try loading this page with nbviewer.org.</b></div><div class=\"sk-container\" hidden><div class=\"sk-item\"><div class=\"sk-estimator sk-toggleable\"><input class=\"sk-toggleable__control sk-hidden--visually\" id=\"sk-estimator-id-2\" type=\"checkbox\" checked><label for=\"sk-estimator-id-2\" class=\"sk-toggleable__label sk-toggleable__label-arrow\">LinearRegression</label><div class=\"sk-toggleable__content\"><pre>LinearRegression()</pre></div></div></div></div></div>"
      ],
      "text/plain": [
       "LinearRegression()"
      ]
     },
     "execution_count": 27,
     "metadata": {},
     "output_type": "execute_result"
    }
   ],
   "source": [
    "regr.fit(possum_X_train, possum_y_train)"
   ]
  },
  {
   "cell_type": "code",
   "execution_count": 28,
   "id": "578e2a95-4d0b-41b5-b617-4800a27384e2",
   "metadata": {
    "tags": []
   },
   "outputs": [],
   "source": [
    "possum_y_pred = regr.predict(possum_X_test)"
   ]
  },
  {
   "cell_type": "code",
   "execution_count": 29,
   "id": "75c92907-94f9-474f-92d0-891522e746cf",
   "metadata": {
    "tags": []
   },
   "outputs": [
    {
     "data": {
      "text/plain": [
       "4.345224481939966"
      ]
     },
     "execution_count": 29,
     "metadata": {},
     "output_type": "execute_result"
    }
   ],
   "source": [
    "mean_squared_error(possum_y_test, possum_y_pred)"
   ]
  },
  {
   "cell_type": "markdown",
   "id": "48185942-b7ad-4c98-a767-e1f35edf67cb",
   "metadata": {},
   "source": [
    "We can see that our mean squared error is high for such a small range of age values."
   ]
  },
  {
   "cell_type": "code",
   "execution_count": 15,
   "id": "66af419b-d947-48a4-9aac-5b5a05081065",
   "metadata": {
    "tags": []
   },
   "outputs": [
    {
     "data": {
      "text/plain": [
       "count    26.000000\n",
       "mean      4.038462\n",
       "std       2.340611\n",
       "min       1.000000\n",
       "25%       2.000000\n",
       "50%       3.500000\n",
       "75%       5.750000\n",
       "max       9.000000\n",
       "Name: age, dtype: float64"
      ]
     },
     "execution_count": 15,
     "metadata": {},
     "output_type": "execute_result"
    }
   ],
   "source": [
    "possum_y_test.describe()"
   ]
  },
  {
   "cell_type": "code",
   "execution_count": 16,
   "id": "9968ad4b-612b-4a02-bcf0-e50271bc2242",
   "metadata": {
    "tags": []
   },
   "outputs": [
    {
     "data": {
      "text/plain": [
       "(4.038461538461538, 5.478461538461538)"
      ]
     },
     "execution_count": 16,
     "metadata": {},
     "output_type": "execute_result"
    }
   ],
   "source": [
    "avg_age = possum_y_test.mean()\n",
    "age_var = possum_y_test.var()\n",
    "avg_age, age_var"
   ]
  },
  {
   "cell_type": "markdown",
   "id": "17eb8a93-c394-4eb0-a77a-254a8956cea0",
   "metadata": {},
   "source": [
    "Average age, age variance"
   ]
  },
  {
   "cell_type": "code",
   "execution_count": 16,
   "id": "c1ae9345-de8b-4216-86d2-82132ccbb6cf",
   "metadata": {
    "tags": []
   },
   "outputs": [
    {
     "data": {
      "text/plain": [
       "(0.27484287479952507, 0.27484287479952507)"
      ]
     },
     "execution_count": 16,
     "metadata": {},
     "output_type": "execute_result"
    }
   ],
   "source": [
    "regr.score(possum_X_test,possum_y_test), r2_score(possum_y_test, possum_y_pred)"
   ]
  },
  {
   "cell_type": "markdown",
   "id": "56591ca2-3e11-46de-8cf5-77daacc18e8e",
   "metadata": {},
   "source": [
    "This negative score value indicates that this is a bad fit."
   ]
  },
  {
   "cell_type": "markdown",
   "id": "6ce7aa63-d110-4788-b522-2d0c2afc6f32",
   "metadata": {},
   "source": [
    "Instead of this multivariate linear regression, we could try univariate (1 feature) linear regression to see if a single feature such as head length is better at predicting a possum's age."
   ]
  },
  {
   "cell_type": "code",
   "execution_count": 17,
   "id": "c08eff2f-be02-454c-9780-7e7aef8d69fb",
   "metadata": {
    "tags": []
   },
   "outputs": [],
   "source": [
    "possum_X = possum_df['hdlngth'].values[:,np.newaxis]"
   ]
  },
  {
   "cell_type": "code",
   "execution_count": 18,
   "id": "64931a2a-bfc3-4644-b059-a2312a7e231c",
   "metadata": {
    "tags": []
   },
   "outputs": [],
   "source": [
    "possum_X_train, possum_X_test, possum_y_train, possum_y_test = train_test_split(possum_X, possum_y)"
   ]
  },
  {
   "cell_type": "code",
   "execution_count": 19,
   "id": "ab87c81b-e90f-4043-af79-6e4a5edca2dc",
   "metadata": {
    "tags": []
   },
   "outputs": [
    {
     "data": {
      "text/html": [
       "<style>#sk-container-id-2 {color: black;}#sk-container-id-2 pre{padding: 0;}#sk-container-id-2 div.sk-toggleable {background-color: white;}#sk-container-id-2 label.sk-toggleable__label {cursor: pointer;display: block;width: 100%;margin-bottom: 0;padding: 0.3em;box-sizing: border-box;text-align: center;}#sk-container-id-2 label.sk-toggleable__label-arrow:before {content: \"▸\";float: left;margin-right: 0.25em;color: #696969;}#sk-container-id-2 label.sk-toggleable__label-arrow:hover:before {color: black;}#sk-container-id-2 div.sk-estimator:hover label.sk-toggleable__label-arrow:before {color: black;}#sk-container-id-2 div.sk-toggleable__content {max-height: 0;max-width: 0;overflow: hidden;text-align: left;background-color: #f0f8ff;}#sk-container-id-2 div.sk-toggleable__content pre {margin: 0.2em;color: black;border-radius: 0.25em;background-color: #f0f8ff;}#sk-container-id-2 input.sk-toggleable__control:checked~div.sk-toggleable__content {max-height: 200px;max-width: 100%;overflow: auto;}#sk-container-id-2 input.sk-toggleable__control:checked~label.sk-toggleable__label-arrow:before {content: \"▾\";}#sk-container-id-2 div.sk-estimator input.sk-toggleable__control:checked~label.sk-toggleable__label {background-color: #d4ebff;}#sk-container-id-2 div.sk-label input.sk-toggleable__control:checked~label.sk-toggleable__label {background-color: #d4ebff;}#sk-container-id-2 input.sk-hidden--visually {border: 0;clip: rect(1px 1px 1px 1px);clip: rect(1px, 1px, 1px, 1px);height: 1px;margin: -1px;overflow: hidden;padding: 0;position: absolute;width: 1px;}#sk-container-id-2 div.sk-estimator {font-family: monospace;background-color: #f0f8ff;border: 1px dotted black;border-radius: 0.25em;box-sizing: border-box;margin-bottom: 0.5em;}#sk-container-id-2 div.sk-estimator:hover {background-color: #d4ebff;}#sk-container-id-2 div.sk-parallel-item::after {content: \"\";width: 100%;border-bottom: 1px solid gray;flex-grow: 1;}#sk-container-id-2 div.sk-label:hover label.sk-toggleable__label {background-color: #d4ebff;}#sk-container-id-2 div.sk-serial::before {content: \"\";position: absolute;border-left: 1px solid gray;box-sizing: border-box;top: 0;bottom: 0;left: 50%;z-index: 0;}#sk-container-id-2 div.sk-serial {display: flex;flex-direction: column;align-items: center;background-color: white;padding-right: 0.2em;padding-left: 0.2em;position: relative;}#sk-container-id-2 div.sk-item {position: relative;z-index: 1;}#sk-container-id-2 div.sk-parallel {display: flex;align-items: stretch;justify-content: center;background-color: white;position: relative;}#sk-container-id-2 div.sk-item::before, #sk-container-id-2 div.sk-parallel-item::before {content: \"\";position: absolute;border-left: 1px solid gray;box-sizing: border-box;top: 0;bottom: 0;left: 50%;z-index: -1;}#sk-container-id-2 div.sk-parallel-item {display: flex;flex-direction: column;z-index: 1;position: relative;background-color: white;}#sk-container-id-2 div.sk-parallel-item:first-child::after {align-self: flex-end;width: 50%;}#sk-container-id-2 div.sk-parallel-item:last-child::after {align-self: flex-start;width: 50%;}#sk-container-id-2 div.sk-parallel-item:only-child::after {width: 0;}#sk-container-id-2 div.sk-dashed-wrapped {border: 1px dashed gray;margin: 0 0.4em 0.5em 0.4em;box-sizing: border-box;padding-bottom: 0.4em;background-color: white;}#sk-container-id-2 div.sk-label label {font-family: monospace;font-weight: bold;display: inline-block;line-height: 1.2em;}#sk-container-id-2 div.sk-label-container {text-align: center;}#sk-container-id-2 div.sk-container {/* jupyter's `normalize.less` sets `[hidden] { display: none; }` but bootstrap.min.css set `[hidden] { display: none !important; }` so we also need the `!important` here to be able to override the default hidden behavior on the sphinx rendered scikit-learn.org. See: https://github.com/scikit-learn/scikit-learn/issues/21755 */display: inline-block !important;position: relative;}#sk-container-id-2 div.sk-text-repr-fallback {display: none;}</style><div id=\"sk-container-id-2\" class=\"sk-top-container\"><div class=\"sk-text-repr-fallback\"><pre>LinearRegression()</pre><b>In a Jupyter environment, please rerun this cell to show the HTML representation or trust the notebook. <br />On GitHub, the HTML representation is unable to render, please try loading this page with nbviewer.org.</b></div><div class=\"sk-container\" hidden><div class=\"sk-item\"><div class=\"sk-estimator sk-toggleable\"><input class=\"sk-toggleable__control sk-hidden--visually\" id=\"sk-estimator-id-2\" type=\"checkbox\" checked><label for=\"sk-estimator-id-2\" class=\"sk-toggleable__label sk-toggleable__label-arrow\">LinearRegression</label><div class=\"sk-toggleable__content\"><pre>LinearRegression()</pre></div></div></div></div></div>"
      ],
      "text/plain": [
       "LinearRegression()"
      ]
     },
     "execution_count": 19,
     "metadata": {},
     "output_type": "execute_result"
    }
   ],
   "source": [
    "regr.fit(possum_X_train, possum_y_train)"
   ]
  },
  {
   "cell_type": "code",
   "execution_count": 20,
   "id": "4580a196-b004-4b00-ae20-2d196ac9b996",
   "metadata": {
    "tags": []
   },
   "outputs": [],
   "source": [
    "possum_y_pred = regr.predict(possum_X_test)"
   ]
  },
  {
   "cell_type": "code",
   "execution_count": 21,
   "id": "843531db-e62d-447b-a991-39406f124059",
   "metadata": {
    "tags": []
   },
   "outputs": [
    {
     "data": {
      "text/plain": [
       "4.068007560294879"
      ]
     },
     "execution_count": 21,
     "metadata": {},
     "output_type": "execute_result"
    }
   ],
   "source": [
    "mean_squared_error(possum_y_test, possum_y_pred)"
   ]
  },
  {
   "cell_type": "code",
   "execution_count": 22,
   "id": "7b8c5466-2b0f-45d0-98aa-91f2324c0975",
   "metadata": {
    "tags": []
   },
   "outputs": [
    {
     "data": {
      "text/plain": [
       "0.07095503014887228"
      ]
     },
     "execution_count": 22,
     "metadata": {},
     "output_type": "execute_result"
    }
   ],
   "source": [
    "regr.score(possum_X_test,possum_y_test)"
   ]
  },
  {
   "cell_type": "code",
   "execution_count": 23,
   "id": "7a1c5b7b-a35a-4263-96c3-49cc0eb1067f",
   "metadata": {
    "tags": []
   },
   "outputs": [
    {
     "data": {
      "image/png": "[encoded data removed]",
      "text/plain": [
       "<Figure size 640x480 with 1 Axes>"
      ]
     },
     "metadata": {},
     "output_type": "display_data"
    }
   ],
   "source": [
    "# plot line prediction\n",
    "plt.plot(possum_X_test, possum_y_pred, color='blue', linewidth=3);\n",
    "\n",
    "# draw vertical lines from each data point to its predict value\n",
    "[plt.plot([x,x],[yp,yt], color='red', linewidth=3, markevery=[0], marker ='^')\n",
    "                 for x, yp, yt in zip(possum_X_test, possum_y_pred, possum_y_test)];\n",
    "\n",
    "# plot these last so they are visually on top\n",
    "plt.scatter(possum_X_test, possum_y_test,  color='black');"
   ]
  },
  {
   "cell_type": "markdown",
   "id": "c81b30b1-7586-4fb9-8fc1-57f1a0d4b754",
   "metadata": {},
   "source": [
    "The errors are relatively small..."
   ]
  },
  {
   "cell_type": "markdown",
   "id": "9934b09d-1368-4416-b946-f6a397611dd3",
   "metadata": {
    "tags": []
   },
   "source": [
    "Univariate linear regression seemed to produce better results. "
   ]
  },
  {
   "cell_type": "markdown",
   "id": "9f57f60b-54b2-49a8-9871-ac19cceab3d1",
   "metadata": {},
   "source": [
    "We can try getting even better results by experimenting with other models and optimizing them."
   ]
  },
  {
   "cell_type": "markdown",
   "id": "766fe043-a845-4fd3-b259-2f0a133bb9d6",
   "metadata": {
    "tags": []
   },
   "source": [
    "# DecisionTreeRegressor"
   ]
  },
  {
   "cell_type": "code",
   "execution_count": 24,
   "id": "3d226f09-042a-4491-8185-1742875977bf",
   "metadata": {
    "tags": []
   },
   "outputs": [],
   "source": [
    "dt = DecisionTreeRegressor()"
   ]
  },
  {
   "cell_type": "code",
   "execution_count": 25,
   "id": "63987b06-00e1-44fa-b286-36c29fd65028",
   "metadata": {
    "tags": []
   },
   "outputs": [],
   "source": [
    "param_grid = {\n",
    "    'max_depth': [2,3,4,5,6],\n",
    "    'min_samples_split': [2, 5, 10],\n",
    "    'min_samples_leaf': list(range(2,20,2)),\n",
    "    'min_weight_fraction_leaf': [0, 0.2, 0.4]\n",
    "}"
   ]
  },
  {
   "cell_type": "markdown",
   "id": "03295550-9740-4060-8286-98354f6f14be",
   "metadata": {},
   "source": [
    "Parameters can greatly impact model performance (time, score, computational complexity) which is why GridSearchCV is used to identify the combination that is best for our model's performance."
   ]
  },
  {
   "cell_type": "code",
   "execution_count": 26,
   "id": "9f3844fe-77e1-4d6e-ba29-e2fae4f24eb5",
   "metadata": {
    "tags": []
   },
   "outputs": [],
   "source": [
    "dt_opt = model_selection.GridSearchCV(dt,param_grid,cv=10)"
   ]
  },
  {
   "cell_type": "code",
   "execution_count": 27,
   "id": "a4ce2032-a31c-4201-86c8-677d6b45931f",
   "metadata": {
    "tags": []
   },
   "outputs": [],
   "source": [
    "dt_opt.fit(possum_X_train, possum_y_train)\n",
    "\n",
    "dt_df = pd.DataFrame(dt_opt.cv_results_)"
   ]
  },
  {
   "cell_type": "code",
   "execution_count": 28,
   "id": "7d7f3e10-cb82-4bbd-8934-d4151753358c",
   "metadata": {
    "tags": []
   },
   "outputs": [
    {
     "data": {
      "text/html": [
       "<div>\n",
       "<style scoped>\n",
       "    .dataframe tbody tr th:only-of-type {\n",
       "        vertical-align: middle;\n",
       "    }\n",
       "\n",
       "    .dataframe tbody tr th {\n",
       "        vertical-align: top;\n",
       "    }\n",
       "\n",
       "    .dataframe thead th {\n",
       "        text-align: right;\n",
       "    }\n",
       "</style>\n",
       "<table border=\"1\" class=\"dataframe\">\n",
       "  <thead>\n",
       "    <tr style=\"text-align: right;\">\n",
       "      <th></th>\n",
       "      <th>mean_fit_time</th>\n",
       "      <th>std_fit_time</th>\n",
       "      <th>mean_score_time</th>\n",
       "      <th>std_score_time</th>\n",
       "      <th>param_max_depth</th>\n",
       "      <th>param_min_samples_leaf</th>\n",
       "      <th>param_min_samples_split</th>\n",
       "      <th>param_min_weight_fraction_leaf</th>\n",
       "      <th>params</th>\n",
       "      <th>split0_test_score</th>\n",
       "      <th>...</th>\n",
       "      <th>split3_test_score</th>\n",
       "      <th>split4_test_score</th>\n",
       "      <th>split5_test_score</th>\n",
       "      <th>split6_test_score</th>\n",
       "      <th>split7_test_score</th>\n",
       "      <th>split8_test_score</th>\n",
       "      <th>split9_test_score</th>\n",
       "      <th>mean_test_score</th>\n",
       "      <th>std_test_score</th>\n",
       "      <th>rank_test_score</th>\n",
       "    </tr>\n",
       "  </thead>\n",
       "  <tbody>\n",
       "    <tr>\n",
       "      <th>0</th>\n",
       "      <td>0.000603</td>\n",
       "      <td>0.000493</td>\n",
       "      <td>0.000506</td>\n",
       "      <td>0.000817</td>\n",
       "      <td>2</td>\n",
       "      <td>2</td>\n",
       "      <td>2</td>\n",
       "      <td>0</td>\n",
       "      <td>{'max_depth': 2, 'min_samples_leaf': 2, 'min_s...</td>\n",
       "      <td>0.338055</td>\n",
       "      <td>...</td>\n",
       "      <td>-0.095329</td>\n",
       "      <td>-0.336367</td>\n",
       "      <td>0.394456</td>\n",
       "      <td>-0.435477</td>\n",
       "      <td>0.356923</td>\n",
       "      <td>0.133768</td>\n",
       "      <td>-0.360989</td>\n",
       "      <td>0.021679</td>\n",
       "      <td>0.306551</td>\n",
       "      <td>220</td>\n",
       "    </tr>\n",
       "  </tbody>\n",
       "</table>\n",
       "<p>1 rows × 22 columns</p>\n",
       "</div>"
      ],
      "text/plain": [
       "   mean_fit_time  std_fit_time  mean_score_time  std_score_time  \\\n",
       "0       0.000603      0.000493         0.000506        0.000817   \n",
       "\n",
       "  param_max_depth param_min_samples_leaf param_min_samples_split  \\\n",
       "0               2                      2                       2   \n",
       "\n",
       "  param_min_weight_fraction_leaf  \\\n",
       "0                              0   \n",
       "\n",
       "                                              params  split0_test_score  ...  \\\n",
       "0  {'max_depth': 2, 'min_samples_leaf': 2, 'min_s...           0.338055  ...   \n",
       "\n",
       "   split3_test_score  split4_test_score  split5_test_score  split6_test_score  \\\n",
       "0          -0.095329          -0.336367           0.394456          -0.435477   \n",
       "\n",
       "   split7_test_score  split8_test_score  split9_test_score  mean_test_score  \\\n",
       "0           0.356923           0.133768          -0.360989         0.021679   \n",
       "\n",
       "   std_test_score  rank_test_score  \n",
       "0        0.306551              220  \n",
       "\n",
       "[1 rows x 22 columns]"
      ]
     },
     "execution_count": 28,
     "metadata": {},
     "output_type": "execute_result"
    }
   ],
   "source": [
    "dt_df.head(1)"
   ]
  },
  {
   "cell_type": "markdown",
   "id": "1889fbfe-2637-4ceb-b647-4740fbdbbcb7",
   "metadata": {},
   "source": [
    "# Support Vector Regression(SVR)"
   ]
  },
  {
   "cell_type": "code",
   "execution_count": 29,
   "id": "08f9b920-282b-4fb6-885c-00662e6d483a",
   "metadata": {
    "tags": []
   },
   "outputs": [],
   "source": [
    "svr_clf = svm.SVR()\n",
    "param_grid = {'kernel':['linear','rbf'], 'C':[.5, .75,1,2,5,7, 10]}\n",
    "svr_opt = model_selection.GridSearchCV(svr_clf,param_grid,cv=10)\n",
    "\n",
    "# optmize the svm put the CV results in a dataframe\n",
    "svr_opt.fit(possum_X_train, possum_y_train)\n",
    "sv_df = pd.DataFrame(svr_opt.cv_results_)"
   ]
  },
  {
   "cell_type": "code",
   "execution_count": 30,
   "id": "05d45dfb-c500-45df-9b0c-5c1271a268cc",
   "metadata": {
    "tags": []
   },
   "outputs": [
    {
     "data": {
      "text/html": [
       "<div>\n",
       "<style scoped>\n",
       "    .dataframe tbody tr th:only-of-type {\n",
       "        vertical-align: middle;\n",
       "    }\n",
       "\n",
       "    .dataframe tbody tr th {\n",
       "        vertical-align: top;\n",
       "    }\n",
       "\n",
       "    .dataframe thead th {\n",
       "        text-align: right;\n",
       "    }\n",
       "</style>\n",
       "<table border=\"1\" class=\"dataframe\">\n",
       "  <thead>\n",
       "    <tr style=\"text-align: right;\">\n",
       "      <th></th>\n",
       "      <th>mean_fit_time</th>\n",
       "      <th>std_fit_time</th>\n",
       "      <th>mean_score_time</th>\n",
       "      <th>std_score_time</th>\n",
       "      <th>param_C</th>\n",
       "      <th>param_kernel</th>\n",
       "      <th>params</th>\n",
       "      <th>split0_test_score</th>\n",
       "      <th>split1_test_score</th>\n",
       "      <th>split2_test_score</th>\n",
       "      <th>split3_test_score</th>\n",
       "      <th>split4_test_score</th>\n",
       "      <th>split5_test_score</th>\n",
       "      <th>split6_test_score</th>\n",
       "      <th>split7_test_score</th>\n",
       "      <th>split8_test_score</th>\n",
       "      <th>split9_test_score</th>\n",
       "      <th>mean_test_score</th>\n",
       "      <th>std_test_score</th>\n",
       "      <th>rank_test_score</th>\n",
       "    </tr>\n",
       "  </thead>\n",
       "  <tbody>\n",
       "    <tr>\n",
       "      <th>0</th>\n",
       "      <td>0.001895</td>\n",
       "      <td>0.000379</td>\n",
       "      <td>0.001409</td>\n",
       "      <td>0.000492</td>\n",
       "      <td>0.5</td>\n",
       "      <td>linear</td>\n",
       "      <td>{'C': 0.5, 'kernel': 'linear'}</td>\n",
       "      <td>-0.382205</td>\n",
       "      <td>-0.226797</td>\n",
       "      <td>-0.244848</td>\n",
       "      <td>0.092682</td>\n",
       "      <td>0.028796</td>\n",
       "      <td>0.531889</td>\n",
       "      <td>-0.056472</td>\n",
       "      <td>0.005388</td>\n",
       "      <td>0.407976</td>\n",
       "      <td>-0.406615</td>\n",
       "      <td>-0.025021</td>\n",
       "      <td>0.2964</td>\n",
       "      <td>10</td>\n",
       "    </tr>\n",
       "  </tbody>\n",
       "</table>\n",
       "</div>"
      ],
      "text/plain": [
       "   mean_fit_time  std_fit_time  mean_score_time  std_score_time param_C  \\\n",
       "0       0.001895      0.000379         0.001409        0.000492     0.5   \n",
       "\n",
       "  param_kernel                          params  split0_test_score  \\\n",
       "0       linear  {'C': 0.5, 'kernel': 'linear'}          -0.382205   \n",
       "\n",
       "   split1_test_score  split2_test_score  split3_test_score  split4_test_score  \\\n",
       "0          -0.226797          -0.244848           0.092682           0.028796   \n",
       "\n",
       "   split5_test_score  split6_test_score  split7_test_score  split8_test_score  \\\n",
       "0           0.531889          -0.056472           0.005388           0.407976   \n",
       "\n",
       "   split9_test_score  mean_test_score  std_test_score  rank_test_score  \n",
       "0          -0.406615        -0.025021          0.2964               10  "
      ]
     },
     "execution_count": 30,
     "metadata": {},
     "output_type": "execute_result"
    }
   ],
   "source": [
    "sv_df.head(1)"
   ]
  },
  {
   "cell_type": "markdown",
   "id": "f233528f-509a-4635-aec3-048ac61a551c",
   "metadata": {},
   "source": [
    "Now we'll compare the DecisionTreeRegressor with Support Vector Regression(SVR)"
   ]
  },
  {
   "cell_type": "code",
   "execution_count": 31,
   "id": "88d4f7c5-0112-4716-8f89-b6b6253686fd",
   "metadata": {
    "tags": []
   },
   "outputs": [
    {
     "data": {
      "text/plain": [
       "count    405.000000\n",
       "mean       0.053550\n",
       "std        0.068322\n",
       "min       -0.239303\n",
       "25%        0.008310\n",
       "50%        0.041016\n",
       "75%        0.103412\n",
       "max        0.134163\n",
       "Name: mean_test_score, dtype: float64"
      ]
     },
     "execution_count": 31,
     "metadata": {},
     "output_type": "execute_result"
    }
   ],
   "source": [
    "dt_df['mean_test_score'].describe()"
   ]
  },
  {
   "cell_type": "code",
   "execution_count": 32,
   "id": "58b222da-5b87-4473-a4be-3fc8c3d96a86",
   "metadata": {
    "tags": []
   },
   "outputs": [
    {
     "data": {
      "text/plain": [
       "count    14.000000\n",
       "mean     -0.025062\n",
       "std       0.014532\n",
       "min      -0.049044\n",
       "25%      -0.032676\n",
       "50%      -0.024717\n",
       "75%      -0.021001\n",
       "max       0.009007\n",
       "Name: mean_test_score, dtype: float64"
      ]
     },
     "execution_count": 32,
     "metadata": {},
     "output_type": "execute_result"
    }
   ],
   "source": [
    "sv_df['mean_test_score'].describe()"
   ]
  },
  {
   "cell_type": "code",
   "execution_count": 33,
   "id": "38119de5-a046-4d72-a3b9-f8db3e659eee",
   "metadata": {
    "tags": []
   },
   "outputs": [
    {
     "data": {
      "text/plain": [
       "(0.3024933988052324, 0.17214844119755435)"
      ]
     },
     "execution_count": 33,
     "metadata": {},
     "output_type": "execute_result"
    }
   ],
   "source": [
    "dt_opt.score(possum_X_test,possum_y_test), svr_opt.score(possum_X_test,possum_y_test)"
   ]
  },
  {
   "cell_type": "markdown",
   "id": "cc255a5c-19e6-46f1-a2d3-ccd510a7e91e",
   "metadata": {
    "tags": []
   },
   "source": [
    "Both optimized models seemed to outperform the LinearRegression model."
   ]
  },
  {
   "cell_type": "markdown",
   "id": "16fae4fb-5f4e-417c-b274-b53784527503",
   "metadata": {
    "tags": []
   },
   "source": [
    "In this case, the DecisionTreeRegressor model produced a slightly better score than the SVR."
   ]
  },
  {
   "cell_type": "markdown",
   "id": "cc27c5cc-dd35-4447-8b77-0a7fadcb66f2",
   "metadata": {
    "tags": []
   },
   "source": [
    "We can further compare the two models to evaluate potential tradeoffs"
   ]
  },
  {
   "cell_type": "code",
   "execution_count": 35,
   "id": "0b096866-c583-4e16-8eea-11c95f37a9fc",
   "metadata": {
    "tags": []
   },
   "outputs": [
    {
     "data": {
      "text/plain": [
       "count    405.000000\n",
       "mean       0.000661\n",
       "std        0.000443\n",
       "min        0.000000\n",
       "25%        0.000304\n",
       "50%        0.000502\n",
       "75%        0.001036\n",
       "max        0.002487\n",
       "Name: mean_fit_time, dtype: float64"
      ]
     },
     "execution_count": 35,
     "metadata": {},
     "output_type": "execute_result"
    }
   ],
   "source": [
    "dt_df['mean_fit_time'].describe()"
   ]
  },
  {
   "cell_type": "code",
   "execution_count": 36,
   "id": "f3c1ca13-e1d4-4ec7-b955-73b7f619f12c",
   "metadata": {
    "tags": []
   },
   "outputs": [
    {
     "data": {
      "text/plain": [
       "count    14.000000\n",
       "mean      0.003445\n",
       "std       0.002348\n",
       "min       0.001432\n",
       "25%       0.002017\n",
       "50%       0.002191\n",
       "75%       0.003749\n",
       "max       0.008500\n",
       "Name: mean_fit_time, dtype: float64"
      ]
     },
     "execution_count": 36,
     "metadata": {},
     "output_type": "execute_result"
    }
   ],
   "source": [
    "sv_df['mean_fit_time'].describe()"
   ]
  },
  {
   "cell_type": "code",
   "execution_count": 38,
   "id": "07c58f40-b58b-4846-b3b9-7e40a4b8a3f4",
   "metadata": {
    "tags": []
   },
   "outputs": [
    {
     "data": {
      "text/plain": [
       "count    405.000000\n",
       "mean       0.000617\n",
       "std        0.000439\n",
       "min        0.000000\n",
       "25%        0.000279\n",
       "50%        0.000462\n",
       "75%        0.000982\n",
       "max        0.002204\n",
       "Name: mean_score_time, dtype: float64"
      ]
     },
     "execution_count": 38,
     "metadata": {},
     "output_type": "execute_result"
    }
   ],
   "source": [
    "dt_df['mean_score_time'].describe()"
   ]
  },
  {
   "cell_type": "code",
   "execution_count": 37,
   "id": "92859f08-2aa7-4b46-9946-045d08c9f8ac",
   "metadata": {
    "tags": []
   },
   "outputs": [
    {
     "data": {
      "text/plain": [
       "count    14.000000\n",
       "mean      0.001470\n",
       "std       0.000322\n",
       "min       0.000850\n",
       "25%       0.001275\n",
       "50%       0.001493\n",
       "75%       0.001641\n",
       "max       0.002083\n",
       "Name: mean_score_time, dtype: float64"
      ]
     },
     "execution_count": 37,
     "metadata": {},
     "output_type": "execute_result"
    }
   ],
   "source": [
    "sv_df['mean_score_time'].describe()"
   ]
  },
  {
   "cell_type": "markdown",
   "id": "fad3529a-dac7-4e45-9483-604034f8d36f",
   "metadata": {
    "tags": []
   },
   "source": [
    "In this case, the DecisionTreeRegressor is faster."
   ]
  },
  {
   "cell_type": "markdown",
   "id": "7e90ae0b-5732-4d7e-a217-a1683a1109fd",
   "metadata": {},
   "source": [
    "Fit and score times should definitely be considered when choosing models for tasks that are especially demanding."
   ]
  },
  {
   "cell_type": "markdown",
   "id": "a4db52a7-08c1-47db-a77e-f5a0cf4c2352",
   "metadata": {},
   "source": [
    "For similar real world tasks, based on these results, I would recommend the DecisionTreeRegressor model as\n",
    "it produced the higher r2 score and took the least amount of time to fit and score."
   ]
  }
 ],
 "metadata": {
  "kernelspec": {
   "display_name": "Python 3 (ipykernel)",
   "language": "python",
   "name": "python3"
  },
  "language_info": {
   "codemirror_mode": {
    "name": "ipython",
    "version": 3
   },
   "file_extension": ".py",
   "mimetype": "text/x-python",
   "name": "python",
   "nbconvert_exporter": "python",
   "pygments_lexer": "ipython3",
   "version": "3.11.4"
  }
 },
 "nbformat": 4,
 "nbformat_minor": 5
}
