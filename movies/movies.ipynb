{
 "cells": [
  {
   "cell_type": "code",
   "execution_count": 4,
   "id": "8a2cf858-d30d-499b-b617-3a9eb6e5b691",
   "metadata": {},
   "outputs": [],
   "source": [
    "import pandas as pd\n",
    "import seaborn as sns"
   ]
  },
  {
   "cell_type": "code",
   "execution_count": 5,
   "id": "49ec7995-2c22-4176-8b3f-23e4d5b8042f",
   "metadata": {},
   "outputs": [],
   "source": [
    "movies_df = pd.read_csv('movies.csv')"
   ]
  },
  {
   "cell_type": "code",
   "execution_count": 6,
   "id": "c4828552-0628-48af-a78a-b9573c68b917",
   "metadata": {
    "tags": []
   },
   "outputs": [
    {
     "data": {
      "text/plain": [
       "Index(['rank', 'id', 'name', 'year', 'imbd_votes', 'imdb_rating',\n",
       "       'certificate', 'duration', 'genre', 'cast_id', 'cast_name',\n",
       "       'director_id', 'director_name', 'writter_name', 'writter_id',\n",
       "       'img_link'],\n",
       "      dtype='object')"
      ]
     },
     "execution_count": 6,
     "metadata": {},
     "output_type": "execute_result"
    }
   ],
   "source": [
    "movies_df.columns"
   ]
  },
  {
   "cell_type": "code",
   "execution_count": 8,
   "id": "e45235ac-baff-4fe1-8e11-6b43abb1ebd0",
   "metadata": {
    "tags": []
   },
   "outputs": [
    {
     "data": {
      "text/html": [
       "<div>\n",
       "<style scoped>\n",
       "    .dataframe tbody tr th:only-of-type {\n",
       "        vertical-align: middle;\n",
       "    }\n",
       "\n",
       "    .dataframe tbody tr th {\n",
       "        vertical-align: top;\n",
       "    }\n",
       "\n",
       "    .dataframe thead th {\n",
       "        text-align: right;\n",
       "    }\n",
       "</style>\n",
       "<table border=\"1\" class=\"dataframe\">\n",
       "  <thead>\n",
       "    <tr style=\"text-align: right;\">\n",
       "      <th></th>\n",
       "      <th>rank</th>\n",
       "      <th>year</th>\n",
       "      <th>imbd_votes</th>\n",
       "      <th>imdb_rating</th>\n",
       "    </tr>\n",
       "  </thead>\n",
       "  <tbody>\n",
       "    <tr>\n",
       "      <th>count</th>\n",
       "      <td>250.000000</td>\n",
       "      <td>250.000000</td>\n",
       "      <td>2.500000e+02</td>\n",
       "      <td>250.000000</td>\n",
       "    </tr>\n",
       "    <tr>\n",
       "      <th>mean</th>\n",
       "      <td>125.500000</td>\n",
       "      <td>1986.456000</td>\n",
       "      <td>6.204287e+05</td>\n",
       "      <td>8.311200</td>\n",
       "    </tr>\n",
       "    <tr>\n",
       "      <th>std</th>\n",
       "      <td>72.312977</td>\n",
       "      <td>25.214423</td>\n",
       "      <td>5.014117e+05</td>\n",
       "      <td>0.229445</td>\n",
       "    </tr>\n",
       "    <tr>\n",
       "      <th>min</th>\n",
       "      <td>1.000000</td>\n",
       "      <td>1921.000000</td>\n",
       "      <td>2.868000e+04</td>\n",
       "      <td>8.000000</td>\n",
       "    </tr>\n",
       "    <tr>\n",
       "      <th>25%</th>\n",
       "      <td>63.250000</td>\n",
       "      <td>1966.250000</td>\n",
       "      <td>2.099448e+05</td>\n",
       "      <td>8.100000</td>\n",
       "    </tr>\n",
       "    <tr>\n",
       "      <th>50%</th>\n",
       "      <td>125.500000</td>\n",
       "      <td>1994.000000</td>\n",
       "      <td>4.823150e+05</td>\n",
       "      <td>8.250000</td>\n",
       "    </tr>\n",
       "    <tr>\n",
       "      <th>75%</th>\n",
       "      <td>187.750000</td>\n",
       "      <td>2006.750000</td>\n",
       "      <td>9.356730e+05</td>\n",
       "      <td>8.400000</td>\n",
       "    </tr>\n",
       "    <tr>\n",
       "      <th>max</th>\n",
       "      <td>250.000000</td>\n",
       "      <td>2022.000000</td>\n",
       "      <td>2.601152e+06</td>\n",
       "      <td>9.300000</td>\n",
       "    </tr>\n",
       "  </tbody>\n",
       "</table>\n",
       "</div>"
      ],
      "text/plain": [
       "             rank         year    imbd_votes  imdb_rating\n",
       "count  250.000000   250.000000  2.500000e+02   250.000000\n",
       "mean   125.500000  1986.456000  6.204287e+05     8.311200\n",
       "std     72.312977    25.214423  5.014117e+05     0.229445\n",
       "min      1.000000  1921.000000  2.868000e+04     8.000000\n",
       "25%     63.250000  1966.250000  2.099448e+05     8.100000\n",
       "50%    125.500000  1994.000000  4.823150e+05     8.250000\n",
       "75%    187.750000  2006.750000  9.356730e+05     8.400000\n",
       "max    250.000000  2022.000000  2.601152e+06     9.300000"
      ]
     },
     "execution_count": 8,
     "metadata": {},
     "output_type": "execute_result"
    }
   ],
   "source": [
    "movies_df.describe()"
   ]
  },
  {
   "cell_type": "markdown",
   "id": "60960ab6-3ce9-4db7-b8ab-2dd5603488c3",
   "metadata": {},
   "source": [
    "This dataset contains information about the top rated 250 movies on IMDB. This data can be used to compare some of the most praised movies on the site."
   ]
  },
  {
   "cell_type": "markdown",
   "id": "2787b3eb-db04-4c33-ac7d-89528d019448",
   "metadata": {},
   "source": [
    "## Interpretation\n",
    "\n",
    "The dataset contains 250 rows and 16 columns\n",
    "\n",
    "*rank* - the movie's placement based on user ratings\n",
    "- The dataset includes only the top 250 movies based on user rating's\n",
    "\n",
    "*year* - the year of release\n",
    "- The mean is around 1986\n",
    "- Standard deviation is around 25, therefore most audience-loved movies were released between 1961-2011\n",
    "\n",
    "*imbd_votes* - number of user's that rated the movie\n",
    "- Standard deviation is 5.014117e+05\n",
    "- The amount of votes seems to vary greatly\n",
    "\n",
    "*imdb_rating* - average user rating\n",
    "- The standard deviation is small, meaning most of the movies in the list were rated about the same at around 8.311200\n",
    "\n",
    "\n",
    "Data interpretations are limited because nonnumerical variables are not described such as the movie director and genre."
   ]
  },
  {
   "cell_type": "markdown",
   "id": "0cc83434-401a-44ae-9187-c7dd7b72f1a5",
   "metadata": {},
   "source": [
    "## Question 1\n",
    "What genres are most frequent in IMDB's top 250 movies?"
   ]
  },
  {
   "cell_type": "code",
   "execution_count": 11,
   "id": "0cd657df-28bc-4f1e-af83-0e9c580db849",
   "metadata": {
    "tags": []
   },
   "outputs": [],
   "source": [
    "top_genres = movies_df['genre'].value_counts().head(10)"
   ]
  },
  {
   "cell_type": "code",
   "execution_count": 12,
   "id": "2f2e641b-4540-4b67-af06-91f18299e584",
   "metadata": {
    "tags": []
   },
   "outputs": [
    {
     "data": {
      "text/plain": [
       "Drama                         19\n",
       "Crime,Drama                   14\n",
       "Animation,Adventure,Comedy    10\n",
       "Crime,Drama,Mystery            9\n",
       "Biography,Drama,History        8\n",
       "Drama,War                      8\n",
       "Drama,Romance                  6\n",
       "Crime,Drama,Thriller           6\n",
       "Action,Crime,Drama             5\n",
       "Action,Adventure,Drama         5\n",
       "Name: genre, dtype: int64"
      ]
     },
     "execution_count": 12,
     "metadata": {},
     "output_type": "execute_result"
    }
   ],
   "source": [
    "top_genres"
   ]
  },
  {
   "cell_type": "code",
   "execution_count": 13,
   "id": "825bfd59-ba8d-4b76-ae58-ab99a4bc97d9",
   "metadata": {
    "tags": []
   },
   "outputs": [
    {
     "data": {
      "text/plain": [
       "<Axes: >"
      ]
     },
     "execution_count": 13,
     "metadata": {},
     "output_type": "execute_result"
    },
    {
     "data": {
      "image/png": "[encoded data removed]",
      "text/plain": [
       "<Figure size 640x480 with 1 Axes>"
      ]
     },
     "metadata": {},
     "output_type": "display_data"
    }
   ],
   "source": [
    "top_genres.plot(kind='bar')"
   ]
  },
  {
   "cell_type": "markdown",
   "id": "e1a626f3-4ba7-46c5-acd0-dc166462a722",
   "metadata": {},
   "source": [
    "Conclusion: Drama is the most common genre found in the top 250 rated movies on IMDB."
   ]
  },
  {
   "cell_type": "markdown",
   "id": "1aab7d33-e2cf-4294-a4a9-9a44e84b3842",
   "metadata": {},
   "source": [
    "## Question 2\n",
    "How many movies in the top 250 are directed and written by the same person?"
   ]
  },
  {
   "cell_type": "code",
   "execution_count": 14,
   "id": "b3f7dbeb-cf88-423f-8b59-10460e118315",
   "metadata": {
    "tags": []
   },
   "outputs": [],
   "source": [
    "direct_and_write_df = movies_df[movies_df['director_name'] == movies_df['writter_name']]"
   ]
  },
  {
   "cell_type": "code",
   "execution_count": 15,
   "id": "6b0f2f71-88c2-47e8-a30b-fc5ba2afb077",
   "metadata": {
    "tags": []
   },
   "outputs": [
    {
     "data": {
      "text/html": [
       "<div>\n",
       "<style scoped>\n",
       "    .dataframe tbody tr th:only-of-type {\n",
       "        vertical-align: middle;\n",
       "    }\n",
       "\n",
       "    .dataframe tbody tr th {\n",
       "        vertical-align: top;\n",
       "    }\n",
       "\n",
       "    .dataframe thead th {\n",
       "        text-align: right;\n",
       "    }\n",
       "</style>\n",
       "<table border=\"1\" class=\"dataframe\">\n",
       "  <thead>\n",
       "    <tr style=\"text-align: right;\">\n",
       "      <th></th>\n",
       "      <th>rank</th>\n",
       "      <th>id</th>\n",
       "      <th>name</th>\n",
       "      <th>year</th>\n",
       "      <th>imbd_votes</th>\n",
       "      <th>imdb_rating</th>\n",
       "      <th>certificate</th>\n",
       "      <th>duration</th>\n",
       "      <th>genre</th>\n",
       "      <th>cast_id</th>\n",
       "      <th>cast_name</th>\n",
       "      <th>director_id</th>\n",
       "      <th>director_name</th>\n",
       "      <th>writter_name</th>\n",
       "      <th>writter_id</th>\n",
       "      <th>img_link</th>\n",
       "    </tr>\n",
       "  </thead>\n",
       "  <tbody>\n",
       "    <tr>\n",
       "      <th>12</th>\n",
       "      <td>13</td>\n",
       "      <td>tt1375666</td>\n",
       "      <td>Inception</td>\n",
       "      <td>2010</td>\n",
       "      <td>2282447</td>\n",
       "      <td>8.8</td>\n",
       "      <td>UA</td>\n",
       "      <td>148</td>\n",
       "      <td>Action,Adventure,Sci-Fi</td>\n",
       "      <td>nm0000138,nm0330687,nm0680983,nm0913822,nm0362...</td>\n",
       "      <td>Leonardo DiCaprio,Joseph Gordon-Levitt,Elliot ...</td>\n",
       "      <td>nm0634240</td>\n",
       "      <td>Christopher Nolan</td>\n",
       "      <td>Christopher Nolan</td>\n",
       "      <td>nm0634240</td>\n",
       "      <td>https://m.media-amazon.com/images/M/MV5BMmQ3ZD...</td>\n",
       "    </tr>\n",
       "    <tr>\n",
       "      <th>27</th>\n",
       "      <td>28</td>\n",
       "      <td>tt0076759</td>\n",
       "      <td>Star Wars</td>\n",
       "      <td>1977</td>\n",
       "      <td>1330965</td>\n",
       "      <td>8.6</td>\n",
       "      <td>U</td>\n",
       "      <td>121</td>\n",
       "      <td>Action,Adventure,Fantasy</td>\n",
       "      <td>nm0000434,nm0000148,nm0000402,nm0000027,nm0001...</td>\n",
       "      <td>Mark Hamill,Harrison Ford,Carrie Fisher,Alec G...</td>\n",
       "      <td>nm0000184</td>\n",
       "      <td>George Lucas</td>\n",
       "      <td>George Lucas</td>\n",
       "      <td>nm0000184</td>\n",
       "      <td>https://m.media-amazon.com/images/M/MV5BOTA5Nj...</td>\n",
       "    </tr>\n",
       "    <tr>\n",
       "      <th>30</th>\n",
       "      <td>31</td>\n",
       "      <td>tt0245429</td>\n",
       "      <td>Sen to Chihiro no kamikakushi</td>\n",
       "      <td>2001</td>\n",
       "      <td>737358</td>\n",
       "      <td>8.6</td>\n",
       "      <td>U</td>\n",
       "      <td>125</td>\n",
       "      <td>Animation,Adventure,Family</td>\n",
       "      <td>nm0153738,nm0687189,nm0997115,nm0383708,nm0622...</td>\n",
       "      <td>Daveigh Chase,Suzanne Pleshette,Miyu Irino,Rum...</td>\n",
       "      <td>nm0594503</td>\n",
       "      <td>Hayao Miyazaki</td>\n",
       "      <td>Hayao Miyazaki</td>\n",
       "      <td>nm0594503</td>\n",
       "      <td>https://m.media-amazon.com/images/M/MV5BMjlmZm...</td>\n",
       "    </tr>\n",
       "    <tr>\n",
       "      <th>33</th>\n",
       "      <td>34</td>\n",
       "      <td>tt0110413</td>\n",
       "      <td>Léon</td>\n",
       "      <td>1994</td>\n",
       "      <td>1132261</td>\n",
       "      <td>8.5</td>\n",
       "      <td>A</td>\n",
       "      <td>110</td>\n",
       "      <td>Action,Crime,Drama</td>\n",
       "      <td>nm0000606,nm0000198,nm0000204,nm0000732,nm0032...</td>\n",
       "      <td>Jean Reno,Gary Oldman,Natalie Portman,Danny Ai...</td>\n",
       "      <td>nm0000108</td>\n",
       "      <td>Luc Besson</td>\n",
       "      <td>Luc Besson</td>\n",
       "      <td>nm0000108</td>\n",
       "      <td>https://m.media-amazon.com/images/M/MV5BNmNhOT...</td>\n",
       "    </tr>\n",
       "    <tr>\n",
       "      <th>43</th>\n",
       "      <td>44</td>\n",
       "      <td>tt2582802</td>\n",
       "      <td>Whiplash</td>\n",
       "      <td>2014</td>\n",
       "      <td>816452</td>\n",
       "      <td>8.5</td>\n",
       "      <td>A</td>\n",
       "      <td>106</td>\n",
       "      <td>Drama,Music</td>\n",
       "      <td>nm1886602,nm0799777,nm2552034,nm0001663,nm3271...</td>\n",
       "      <td>Miles Teller,J.K. Simmons,Melissa Benoist,Paul...</td>\n",
       "      <td>nm3227090</td>\n",
       "      <td>Damien Chazelle</td>\n",
       "      <td>Damien Chazelle</td>\n",
       "      <td>nm3227090</td>\n",
       "      <td>https://m.media-amazon.com/images/M/MV5BYjBmYT...</td>\n",
       "    </tr>\n",
       "  </tbody>\n",
       "</table>\n",
       "</div>"
      ],
      "text/plain": [
       "    rank         id                           name  year  imbd_votes  \\\n",
       "12    13  tt1375666                      Inception  2010     2282447   \n",
       "27    28  tt0076759                      Star Wars  1977     1330965   \n",
       "30    31  tt0245429  Sen to Chihiro no kamikakushi  2001      737358   \n",
       "33    34  tt0110413                           Léon  1994     1132261   \n",
       "43    44  tt2582802                       Whiplash  2014      816452   \n",
       "\n",
       "    imdb_rating certificate duration                       genre  \\\n",
       "12          8.8          UA      148     Action,Adventure,Sci-Fi   \n",
       "27          8.6           U      121    Action,Adventure,Fantasy   \n",
       "30          8.6           U      125  Animation,Adventure,Family   \n",
       "33          8.5           A      110          Action,Crime,Drama   \n",
       "43          8.5           A      106                 Drama,Music   \n",
       "\n",
       "                                              cast_id  \\\n",
       "12  nm0000138,nm0330687,nm0680983,nm0913822,nm0362...   \n",
       "27  nm0000434,nm0000148,nm0000402,nm0000027,nm0001...   \n",
       "30  nm0153738,nm0687189,nm0997115,nm0383708,nm0622...   \n",
       "33  nm0000606,nm0000198,nm0000204,nm0000732,nm0032...   \n",
       "43  nm1886602,nm0799777,nm2552034,nm0001663,nm3271...   \n",
       "\n",
       "                                            cast_name director_id  \\\n",
       "12  Leonardo DiCaprio,Joseph Gordon-Levitt,Elliot ...   nm0634240   \n",
       "27  Mark Hamill,Harrison Ford,Carrie Fisher,Alec G...   nm0000184   \n",
       "30  Daveigh Chase,Suzanne Pleshette,Miyu Irino,Rum...   nm0594503   \n",
       "33  Jean Reno,Gary Oldman,Natalie Portman,Danny Ai...   nm0000108   \n",
       "43  Miles Teller,J.K. Simmons,Melissa Benoist,Paul...   nm3227090   \n",
       "\n",
       "        director_name       writter_name writter_id  \\\n",
       "12  Christopher Nolan  Christopher Nolan  nm0634240   \n",
       "27       George Lucas       George Lucas  nm0000184   \n",
       "30     Hayao Miyazaki     Hayao Miyazaki  nm0594503   \n",
       "33         Luc Besson         Luc Besson  nm0000108   \n",
       "43    Damien Chazelle    Damien Chazelle  nm3227090   \n",
       "\n",
       "                                             img_link  \n",
       "12  https://m.media-amazon.com/images/M/MV5BMmQ3ZD...  \n",
       "27  https://m.media-amazon.com/images/M/MV5BOTA5Nj...  \n",
       "30  https://m.media-amazon.com/images/M/MV5BMjlmZm...  \n",
       "33  https://m.media-amazon.com/images/M/MV5BNmNhOT...  \n",
       "43  https://m.media-amazon.com/images/M/MV5BYjBmYT...  "
      ]
     },
     "execution_count": 15,
     "metadata": {},
     "output_type": "execute_result"
    }
   ],
   "source": [
    "direct_and_write_df.head()"
   ]
  },
  {
   "cell_type": "code",
   "execution_count": 16,
   "id": "38edcf96-c95d-4a84-8356-1eaf927c2f3a",
   "metadata": {
    "tags": []
   },
   "outputs": [
    {
     "data": {
      "text/plain": [
       "30"
      ]
     },
     "execution_count": 16,
     "metadata": {},
     "output_type": "execute_result"
    }
   ],
   "source": [
    "direct_and_write_df.shape[0]"
   ]
  },
  {
   "cell_type": "markdown",
   "id": "3ac6b41b-64f4-4fb4-832b-a54d5959ea5f",
   "metadata": {},
   "source": [
    "Conclusion: There are 30 movies in the top 250 that are written and directed by the same person."
   ]
  },
  {
   "cell_type": "markdown",
   "id": "30747a29-d09d-453c-a676-9dfbede01161",
   "metadata": {},
   "source": [
    "## Question 3\n",
    "Does the amount of votes indicate the rank/rating of the movies?"
   ]
  },
  {
   "cell_type": "code",
   "execution_count": 21,
   "id": "8ced1729-35ca-4d1f-843b-f0fdba5f68b6",
   "metadata": {
    "tags": []
   },
   "outputs": [
    {
     "data": {
      "text/plain": [
       "620428.732"
      ]
     },
     "execution_count": 21,
     "metadata": {},
     "output_type": "execute_result"
    }
   ],
   "source": [
    "movies_df['imbd_votes'].mean()"
   ]
  },
  {
   "cell_type": "code",
   "execution_count": 22,
   "id": "3015ab39-46ff-40a3-a737-7d01b0fadb3b",
   "metadata": {
    "tags": []
   },
   "outputs": [
    {
     "data": {
      "text/plain": [
       "8.311200000000001"
      ]
     },
     "execution_count": 22,
     "metadata": {},
     "output_type": "execute_result"
    }
   ],
   "source": [
    "movies_df['imdb_rating'].mean()"
   ]
  },
  {
   "cell_type": "code",
   "execution_count": 17,
   "id": "40108bbb-0767-46a3-a537-3174e182653c",
   "metadata": {
    "tags": []
   },
   "outputs": [],
   "source": [
    "group = movies_df.groupby(['imbd_votes', 'rank'])[['imdb_rating']].mean()"
   ]
  },
  {
   "cell_type": "code",
   "execution_count": 18,
   "id": "4ebd8e9e-976b-42df-a872-70a371cf0ab3",
   "metadata": {
    "tags": []
   },
   "outputs": [
    {
     "data": {
      "text/html": [
       "<div>\n",
       "<style scoped>\n",
       "    .dataframe tbody tr th:only-of-type {\n",
       "        vertical-align: middle;\n",
       "    }\n",
       "\n",
       "    .dataframe tbody tr th {\n",
       "        vertical-align: top;\n",
       "    }\n",
       "\n",
       "    .dataframe thead th {\n",
       "        text-align: right;\n",
       "    }\n",
       "</style>\n",
       "<table border=\"1\" class=\"dataframe\">\n",
       "  <thead>\n",
       "    <tr style=\"text-align: right;\">\n",
       "      <th></th>\n",
       "      <th></th>\n",
       "      <th>imdb_rating</th>\n",
       "    </tr>\n",
       "    <tr>\n",
       "      <th>imbd_votes</th>\n",
       "      <th>rank</th>\n",
       "      <th></th>\n",
       "    </tr>\n",
       "  </thead>\n",
       "  <tbody>\n",
       "    <tr>\n",
       "      <th>28680</th>\n",
       "      <th>242</th>\n",
       "      <td>8.2</td>\n",
       "    </tr>\n",
       "    <tr>\n",
       "      <th>31958</th>\n",
       "      <th>211</th>\n",
       "      <td>8.3</td>\n",
       "    </tr>\n",
       "    <tr>\n",
       "      <th>36376</th>\n",
       "      <th>229</th>\n",
       "      <td>8.2</td>\n",
       "    </tr>\n",
       "    <tr>\n",
       "      <th>43333</th>\n",
       "      <th>92</th>\n",
       "      <td>8.4</td>\n",
       "    </tr>\n",
       "    <tr>\n",
       "      <th>48939</th>\n",
       "      <th>194</th>\n",
       "      <td>8.2</td>\n",
       "    </tr>\n",
       "    <tr>\n",
       "      <th>...</th>\n",
       "      <th>...</th>\n",
       "      <td>...</td>\n",
       "    </tr>\n",
       "    <tr>\n",
       "      <th>2009640</th>\n",
       "      <th>11</th>\n",
       "      <td>8.8</td>\n",
       "    </tr>\n",
       "    <tr>\n",
       "      <th>2048759</th>\n",
       "      <th>12</th>\n",
       "      <td>8.8</td>\n",
       "    </tr>\n",
       "    <tr>\n",
       "      <th>2282447</th>\n",
       "      <th>13</th>\n",
       "      <td>8.8</td>\n",
       "    </tr>\n",
       "    <tr>\n",
       "      <th>2572662</th>\n",
       "      <th>3</th>\n",
       "      <td>9.0</td>\n",
       "    </tr>\n",
       "    <tr>\n",
       "      <th>2601152</th>\n",
       "      <th>1</th>\n",
       "      <td>9.3</td>\n",
       "    </tr>\n",
       "  </tbody>\n",
       "</table>\n",
       "<p>250 rows × 1 columns</p>\n",
       "</div>"
      ],
      "text/plain": [
       "                 imdb_rating\n",
       "imbd_votes rank             \n",
       "28680      242           8.2\n",
       "31958      211           8.3\n",
       "36376      229           8.2\n",
       "43333      92            8.4\n",
       "48939      194           8.2\n",
       "...                      ...\n",
       "2009640    11            8.8\n",
       "2048759    12            8.8\n",
       "2282447    13            8.8\n",
       "2572662    3             9.0\n",
       "2601152    1             9.3\n",
       "\n",
       "[250 rows x 1 columns]"
      ]
     },
     "execution_count": 18,
     "metadata": {},
     "output_type": "execute_result"
    }
   ],
   "source": [
    "group"
   ]
  },
  {
   "cell_type": "code",
   "execution_count": 20,
   "id": "97b4a0b9-caa6-46e8-80fd-37c43169d839",
   "metadata": {
    "tags": []
   },
   "outputs": [
    {
     "data": {
      "text/plain": [
       "<seaborn.axisgrid.FacetGrid at 0x1e7bc0cd150>"
      ]
     },
     "execution_count": 20,
     "metadata": {},
     "output_type": "execute_result"
    },
    {
     "data": {
      "image/png": "[encoded data removed]",
      "text/plain": [
       "<Figure size 594.611x500 with 1 Axes>"
      ]
     },
     "metadata": {},
     "output_type": "display_data"
    }
   ],
   "source": [
    "sns.relplot(data=group, x='rank', y='imbd_votes',hue='imdb_rating')"
   ]
  },
  {
   "cell_type": "markdown",
   "id": "d6179ab1-7090-488f-adf6-0d447351940d",
   "metadata": {},
   "source": [
    "Conclusion: There does appear to be a correlation between the number of votes and the movie's rating/rank on IMDB. The highest rated movies tend to have the most amount of user votes."
   ]
  },
  {
   "cell_type": "markdown",
   "id": "2b5fc8fe-4d2f-45c2-bcca-1874e3dd147a",
   "metadata": {},
   "source": [
    "## Future analysis\n",
    "\n",
    "To analyze this dataset in the future, it needs to cleaned, further reviewed, and updated. Some of the columns are even incorrectly spelled such as 'writter_name'."
   ]
  }
 ],
 "metadata": {
  "kernelspec": {
   "display_name": "Python 3 (ipykernel)",
   "language": "python",
   "name": "python3"
  },
  "language_info": {
   "codemirror_mode": {
    "name": "ipython",
    "version": 3
   },
   "file_extension": ".py",
   "mimetype": "text/x-python",
   "name": "python",
   "nbconvert_exporter": "python",
   "pygments_lexer": "ipython3",
   "version": "3.11.4"
  }
 },
 "nbformat": 4,
 "nbformat_minor": 5
}
